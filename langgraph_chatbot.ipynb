{
 "cells": [
  {
   "cell_type": "code",
   "execution_count": 69,
   "metadata": {},
   "outputs": [],
   "source": [
    "#creating a chatbot using langgraph and groq model"
   ]
  },
  {
   "cell_type": "code",
   "execution_count": 68,
   "metadata": {},
   "outputs": [
    {
     "data": {
      "text/plain": [
       "True"
      ]
     },
     "execution_count": 68,
     "metadata": {},
     "output_type": "execute_result"
    }
   ],
   "source": [
    "import os\n",
    "from dotenv import load_dotenv\n",
    "load_dotenv()"
   ]
  },
  {
   "cell_type": "code",
   "execution_count": 53,
   "metadata": {},
   "outputs": [],
   "source": [
    "from langchain_groq import ChatGroq\n",
    "from typing import Annotated\n",
    "from typing_extensions import TypedDict\n",
    "from langgraph.graph.message import add_messages\n",
    "from langgraph.graph.state import StateGraph,START,END"
   ]
  },
  {
   "cell_type": "code",
   "execution_count": 54,
   "metadata": {},
   "outputs": [],
   "source": [
    "groq_api_key=os.getenv(\"GROQ_API_KEY\")"
   ]
  },
  {
   "cell_type": "code",
   "execution_count": 55,
   "metadata": {},
   "outputs": [],
   "source": [
    "llm=ChatGroq(model=\"gemma2-9b-it\",api_key=groq_api_key)"
   ]
  },
  {
   "cell_type": "code",
   "execution_count": 56,
   "metadata": {},
   "outputs": [],
   "source": [
    "class State(TypedDict):\n",
    "    messages:Annotated[list,add_messages]\n"
   ]
  },
  {
   "cell_type": "code",
   "execution_count": 57,
   "metadata": {},
   "outputs": [],
   "source": [
    "def chatbot(state:State):\n",
    "    return ({\"messages\":llm.invoke(state[\"messages\"])})"
   ]
  },
  {
   "cell_type": "code",
   "execution_count": 58,
   "metadata": {},
   "outputs": [],
   "source": [
    "workflow=StateGraph(State)"
   ]
  },
  {
   "cell_type": "code",
   "execution_count": 59,
   "metadata": {},
   "outputs": [
    {
     "data": {
      "text/plain": [
       "<langgraph.graph.state.StateGraph at 0x298cb166330>"
      ]
     },
     "execution_count": 59,
     "metadata": {},
     "output_type": "execute_result"
    }
   ],
   "source": [
    "workflow.add_node(\"chatbot\",chatbot)"
   ]
  },
  {
   "cell_type": "code",
   "execution_count": 60,
   "metadata": {},
   "outputs": [
    {
     "data": {
      "text/plain": [
       "<langgraph.graph.state.StateGraph at 0x298cb166330>"
      ]
     },
     "execution_count": 60,
     "metadata": {},
     "output_type": "execute_result"
    }
   ],
   "source": [
    "workflow.add_edge(START,\"chatbot\")"
   ]
  },
  {
   "cell_type": "code",
   "execution_count": 61,
   "metadata": {},
   "outputs": [
    {
     "data": {
      "text/plain": [
       "<langgraph.graph.state.StateGraph at 0x298cb166330>"
      ]
     },
     "execution_count": 61,
     "metadata": {},
     "output_type": "execute_result"
    }
   ],
   "source": [
    "workflow.add_edge(\"chatbot\",END)"
   ]
  },
  {
   "cell_type": "code",
   "execution_count": 62,
   "metadata": {},
   "outputs": [],
   "source": [
    "graph=workflow.compile()"
   ]
  },
  {
   "cell_type": "code",
   "execution_count": 63,
   "metadata": {},
   "outputs": [
    {
     "data": {
      "image/jpeg": "[encoded data removed]",
      "text/plain": [
       "<IPython.core.display.Image object>"
      ]
     },
     "metadata": {},
     "output_type": "display_data"
    }
   ],
   "source": [
    "from IPython.display import display,Image\n",
    "try:\n",
    "    display(Image(graph.get_graph().draw_mermaid_png()))\n",
    "except Exception:\n",
    "    pass"
   ]
  },
  {
   "cell_type": "code",
   "execution_count": 67,
   "metadata": {},
   "outputs": [
    {
     "name": "stdout",
     "output_type": "stream",
     "text": [
      "dict_values([{'messages': AIMessage(content='Hello! 👋 \\n\\nHow can I help you today? 😄\\n', additional_kwargs={}, response_metadata={'token_usage': {'completion_tokens': 16, 'prompt_tokens': 10, 'total_tokens': 26, 'completion_time': 0.029090909, 'prompt_time': 6.9e-07, 'queue_time': 0.013887449000000001, 'total_time': 0.029091599}, 'model_name': 'gemma2-9b-it', 'system_fingerprint': 'fp_10c08bf97d', 'finish_reason': 'stop', 'logprobs': None}, id='run-292f03fa-435b-4cb2-b8d0-deb771c891c4-0', usage_metadata={'input_tokens': 10, 'output_tokens': 16, 'total_tokens': 26})}])\n",
      "content='Hello! 👋 \\n\\nHow can I help you today? 😄\\n' additional_kwargs={} response_metadata={'token_usage': {'completion_tokens': 16, 'prompt_tokens': 10, 'total_tokens': 26, 'completion_time': 0.029090909, 'prompt_time': 6.9e-07, 'queue_time': 0.013887449000000001, 'total_time': 0.029091599}, 'model_name': 'gemma2-9b-it', 'system_fingerprint': 'fp_10c08bf97d', 'finish_reason': 'stop', 'logprobs': None} id='run-292f03fa-435b-4cb2-b8d0-deb771c891c4-0' usage_metadata={'input_tokens': 10, 'output_tokens': 16, 'total_tokens': 26}\n",
      "aimessage Hello! 👋 \n",
      "\n",
      "How can I help you today? 😄\n",
      "\n",
      "dict_values([{'messages': AIMessage(content='I am sorry, I am unable to create images. I am a text-based AI. \\n\\nTo create an image of a monkey, you could try using an image generation tool like:\\n\\n* **DALL-E 2:** [https://openai.com/dall-e-2/](https://openai.com/dall-e-2/)\\n* **Midjourney:** [https://www.midjourney.com/](https://www.midjourney.com/)\\n* **Stable Diffusion:** [https://stability.ai/](https://stability.ai/)\\n\\nThese tools allow you to input a text description of what you want to see, and they will generate an image based on your description. \\n\\nFor example, you could try typing \"a cute monkey swinging from a vine\" into one of these tools. \\n\\n', additional_kwargs={}, response_metadata={'token_usage': {'completion_tokens': 180, 'prompt_tokens': 14, 'total_tokens': 194, 'completion_time': 0.327272727, 'prompt_time': 0.00015942, 'queue_time': 0.013203857999999999, 'total_time': 0.327432147}, 'model_name': 'gemma2-9b-it', 'system_fingerprint': 'fp_10c08bf97d', 'finish_reason': 'stop', 'logprobs': None}, id='run-c037cb5c-64cd-479f-9ea6-ba69cf073b3c-0', usage_metadata={'input_tokens': 14, 'output_tokens': 180, 'total_tokens': 194})}])\n",
      "content='I am sorry, I am unable to create images. I am a text-based AI. \\n\\nTo create an image of a monkey, you could try using an image generation tool like:\\n\\n* **DALL-E 2:** [https://openai.com/dall-e-2/](https://openai.com/dall-e-2/)\\n* **Midjourney:** [https://www.midjourney.com/](https://www.midjourney.com/)\\n* **Stable Diffusion:** [https://stability.ai/](https://stability.ai/)\\n\\nThese tools allow you to input a text description of what you want to see, and they will generate an image based on your description. \\n\\nFor example, you could try typing \"a cute monkey swinging from a vine\" into one of these tools. \\n\\n' additional_kwargs={} response_metadata={'token_usage': {'completion_tokens': 180, 'prompt_tokens': 14, 'total_tokens': 194, 'completion_time': 0.327272727, 'prompt_time': 0.00015942, 'queue_time': 0.013203857999999999, 'total_time': 0.327432147}, 'model_name': 'gemma2-9b-it', 'system_fingerprint': 'fp_10c08bf97d', 'finish_reason': 'stop', 'logprobs': None} id='run-c037cb5c-64cd-479f-9ea6-ba69cf073b3c-0' usage_metadata={'input_tokens': 14, 'output_tokens': 180, 'total_tokens': 194}\n",
      "aimessage I am sorry, I am unable to create images. I am a text-based AI. \n",
      "\n",
      "To create an image of a monkey, you could try using an image generation tool like:\n",
      "\n",
      "* **DALL-E 2:** [https://openai.com/dall-e-2/](https://openai.com/dall-e-2/)\n",
      "* **Midjourney:** [https://www.midjourney.com/](https://www.midjourney.com/)\n",
      "* **Stable Diffusion:** [https://stability.ai/](https://stability.ai/)\n",
      "\n",
      "These tools allow you to input a text description of what you want to see, and they will generate an image based on your description. \n",
      "\n",
      "For example, you could try typing \"a cute monkey swinging from a vine\" into one of these tools. \n",
      "\n",
      "\n"
     ]
    }
   ],
   "source": [
    "while True:\n",
    "    user_input=input(\"enter the question\")\n",
    "    if user_input.lower() in [\"quit\",\"q\"]:\n",
    "        break\n",
    "    else:\n",
    "        for event in graph.stream({\"messages\":(\"user\",user_input)}):\n",
    "            print(event.values())\n",
    "            for val in event.values():\n",
    "                print(val[\"messages\"])\n",
    "                print(\"aimessage\",val[\"messages\"].content)\n",
    "            "
   ]
  }
 ],
 "metadata": {
  "kernelspec": {
   "display_name": "venv",
   "language": "python",
   "name": "python3"
  },
  "language_info": {
   "codemirror_mode": {
    "name": "ipython",
    "version": 3
   },
   "file_extension": ".py",
   "mimetype": "text/x-python",
   "name": "python",
   "nbconvert_exporter": "python",
   "pygments_lexer": "ipython3",
   "version": "3.12.2"
  }
 },
 "nbformat": 4,
 "nbformat_minor": 2
}
