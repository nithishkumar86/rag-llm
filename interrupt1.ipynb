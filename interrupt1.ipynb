{
 "cells": [
  {
   "cell_type": "code",
   "execution_count": 142,
   "metadata": {},
   "outputs": [],
   "source": [
    "#inbuilt interrupt in langgraph"
   ]
  },
  {
   "cell_type": "code",
   "execution_count": null,
   "metadata": {},
   "outputs": [],
   "source": [
    "from langgraph.checkpoint.memory import MemorySaver\n",
    "from langchain_core.messages import BaseMessage\n",
    "from langchain_groq import ChatGroq\n",
    "from langchain_core.messages import AIMessage,ToolMessage\n",
    "from langchain_community.tools.tavily_search import TavilySearchResults\n",
    "from langgraph.graph.message import add_messages\n",
    "from langgraph.graph import StateGraph,START,END\n",
    "from IPython.display import Image,display\n",
    "from langgraph.prebuilt import tools_condition,ToolNode\n",
    "from typing import Annotated\n",
    "from typing import TypedDict,Sequence"
   ]
  },
  {
   "cell_type": "code",
   "execution_count": 143,
   "metadata": {},
   "outputs": [
    {
     "data": {
      "text/plain": [
       "True"
      ]
     },
     "execution_count": 143,
     "metadata": {},
     "output_type": "execute_result"
    }
   ],
   "source": [
    "import os\n",
    "from dotenv import load_dotenv\n",
    "load_dotenv()"
   ]
  },
  {
   "cell_type": "code",
   "execution_count": 144,
   "metadata": {},
   "outputs": [],
   "source": [
    "os.environ['GROQ_API_KEY']=os.getenv(\"GROQ_API_KEY\")\n",
    "os.environ['TAVILY_API_KEY']=os.getenv(\"TAVILY_API_KEY\")"
   ]
  },
  {
   "cell_type": "code",
   "execution_count": 145,
   "metadata": {},
   "outputs": [],
   "source": [
    "llm=ChatGroq(model=\"gemma2-9b-it\")"
   ]
  },
  {
   "cell_type": "code",
   "execution_count": 146,
   "metadata": {},
   "outputs": [
    {
     "data": {
      "text/plain": [
       "\"Gen I refers to the first generation of **Pokémon**. \\n\\nThis generation includes the original 151 Pokémon introduced in the games **Pokémon Red, Green, Blue, and Yellow** for the Game Boy. It also encompasses the anime series' first season, the first generation of trading cards, and the original Pokémon manga. \\n\\nHere are some key features of Gen I:\\n\\n* **151 Pokémon:**  From Bulbasaur to Mewtwo, these iconic creatures defined the world of Pokémon for many.\\n* **Kanto Region:** The games take place in this fictional region, featuring diverse locations like Pallet Town, Viridian Forest, and Mt. Moon.\\n* **8 Gyms:** Trainers must defeat these gym leaders to earn badges and eventually challenge the Elite Four and Champion.\\n* **Original Gameplay Mechanics:** Features like type matchups, experience points, and evolution were established in Gen I and remain fundamental to the Pokémon franchise.\\n\\n\\nLet me know if you'd like to know more about specific aspects of Gen I, like the Pokémon themselves, the story, or the games' features.\\n\""
      ]
     },
     "execution_count": 146,
     "metadata": {},
     "output_type": "execute_result"
    }
   ],
   "source": [
    "llm.invoke(\"what is gen i\").content"
   ]
  },
  {
   "cell_type": "code",
   "execution_count": 147,
   "metadata": {},
   "outputs": [],
   "source": [
    "search=TavilySearchResults()"
   ]
  },
  {
   "cell_type": "code",
   "execution_count": 148,
   "metadata": {},
   "outputs": [
    {
     "data": {
      "text/plain": [
       "[{'url': 'https://en.m.wikipedia.org/wiki/Generative_artificial_intelligence',\n",
       "  'content': 'Generative artificial intelligence (generative AI, GenAI, [1] or GAI) is a subset of artificial intelligence that uses generative models to produce text, images, videos, or other forms of data. [2] [3] [4] These models learn the underlying patterns and structures of their training data and use them to produce new data [5] [6] based on the input, which often comes in the form of natural'},\n",
       " {'url': 'https://www.geeksforgeeks.org/what-is-generative-ai/',\n",
       "  'content': 'Generative AI is a subset of deep learning that creates new artificial content or data without human intervention. Learn about the working, types, and applications of generative models such as GANs, VAEs, transformers, and more.'},\n",
       " {'url': 'https://www.coursera.org/articles/what-is-generative-ai',\n",
       "  'content': 'Writing or improving content by producing a draft text in a specific style or length\\nAdding subtitles or dubbing educational content, films, and other content in different languages\\nOutlining briefs, resumes, term papers, and more\\nReceiving a generic code to edit or improve upon\\nSummarizing articles, emails, and reports\\nImproving demonstration or explanation videos\\nCreating music in a specific tone or style\\nGenerative AI has many use cases that can benefit the way we work, by speeding up the content creation process or reducing the effort put into crafting an initial outline for a survey or email. GitHub Copilot: This collaboration between GitHub and OpenAI acts as a coding companion to help developers code faster and more intuitively.\\nRead more: 6 Artificial Intelligence (AI) Jobs to Consider in 2023\\nGenerative AI use cases\\nOnce you’ve decided which AI generator suits your needs, these use cases may help you get the creative juices flowing for ways generative AI can benefit you and your business.\\n Learners are advised to conduct additional research to ensure that courses and other credentials pursued meet their personal, professional, and financial goals.\\n$1 unlocks unlimited opportunities\\nCoursera Footer\\nPopular AI Content\\nPopular Programs\\nPopular Skills\\nPopular Career Resources\\nCoursera\\nCommunity\\nMore What is generative AI?\\nGenerative AI, also referred to as GenAI, allows users to input a variety of prompts to generate new content, such as text, images, videos, sounds, code, 3D designs, and other media. Get an intro to generative AI\\nFor a quick, one-hour introduction to generative AI, consider enrolling in Google Cloud’s Introduction to Generative AI.'},\n",
       " {'url': 'https://www.gartner.com/en/topics/generative-ai',\n",
       "  'content': 'Offering shortened versions of conversations, articles, emails and webpages\\nSimplification: Breaking down titles, creating outlines and extracting key content\\nClassification of content for specific use cases: Sorting by sentiment, topic, etc.\\nChatbot performance improvement: Bettering “sentity” extraction, whole-conversation sentiment classification and generation of journey flows from general descriptions\\nSoftware coding: Code generation, translation, explanation and verification\\nEmerging use cases with long-term impacts include:\\nCreating medical images that show the future development of a disease\\u200b\\nSynthetic data helping augment scarce data, mitigate bias, preserve data privacy and simulate future scenarios\\nApplications proactively suggesting additional actions to users and providing them with information\\nLegacy code modernization\\nHow will generative AI contribute business value?\\nGenerative AI provides new and disruptive opportunities to increase revenue, reduce costs, improve productivity and better manage risk. jsbacContactjsbacContact\\n8 a.m. – 7 p.m. ET\\n8 a.m.\\xa0– 5 p.m. GMT\\nMonday through Friday\\nPlease provide the consent below\\nI have read, understood and accepted Gartner\\nSeparate Consent Letter\\n, whereby I agree (1) to provide Gartner with my personal information, and understand that information will be transferred outside of mainland China and processed by Gartner group companies and other legitimate processing parties and (2) to be contacted by Gartner group\\ncompanies via internet, mobile/telephone and email, for the purposes of sales, marketing and research.\\n or call jsbacContact\\nor call jsbacContact\\nGartner Experts Answer the Top Generative AI\\nQuestions for Your Enterprise\\nGenerative AI isn’t just a technology or a business case — it is a key part of a society in which people and machines work together.\\n What are the benefits and applications of generative AI?\\nFoundation models, including generative pretrained transformers (which drives ChatGPT), are among the AI architecture innovations that can be used to automate, augment humans or machines, and autonomously execute business and IT processes.\\n What’s behind the sudden hype about generative AI?\\nGartner has tracked generative AI on its Hype Cycle™ for Artificial Intelligence since 2020 (also, generative AI was among our Top Strategic Technology Trends for 2022), and the technology has moved from the Innovation Trigger phase to the Peak of Inflated Expectations.'},\n",
       " {'url': 'https://www.ibm.com/think/topics/generative-ai',\n",
       "  'content': 'Generative adversarial networks (GANs) and diffusion models, which improved the accuracy of previous applications and enabled some of the first AI solutions for photo-realistic image generation. In addition to enabling faster training, transformers excel at natural language processing (NLP) and natural language understanding (NLU), and can generate longer sequences of data—e.g., not just answers to questions, but poems, articles or papers—with greater accuracy and higher quality than other deep generative AI models. Generative models can synthesize natural-sounding speech and audio content for voice-enabled AI chatbots and digital assistants, audiobook narration and other applications. Train, validate, tune and deploy generative AI, foundation models and machine learning capabilities with IBM watsonx.ai, a next-generation enterprise studio for AI builders.'}]"
      ]
     },
     "execution_count": 148,
     "metadata": {},
     "output_type": "execute_result"
    }
   ],
   "source": [
    "search.invoke(\"what is gen ai\")"
   ]
  },
  {
   "cell_type": "code",
   "execution_count": 149,
   "metadata": {},
   "outputs": [],
   "source": [
    "tools=[search]"
   ]
  },
  {
   "cell_type": "code",
   "execution_count": 150,
   "metadata": {},
   "outputs": [],
   "source": [
    "model_with_tools=llm.bind_tools(tools=tools)"
   ]
  },
  {
   "cell_type": "code",
   "execution_count": 151,
   "metadata": {},
   "outputs": [
    {
     "data": {
      "text/plain": [
       "AIMessage(content='', additional_kwargs={'tool_calls': [{'id': 'call_j4be', 'function': {'arguments': '{\"query\":\"gena i\"}', 'name': 'tavily_search_results_json'}, 'type': 'function'}]}, response_metadata={'token_usage': {'completion_tokens': 87, 'prompt_tokens': 985, 'total_tokens': 1072, 'completion_time': 0.158181818, 'prompt_time': 0.053298326, 'queue_time': 0.020878303999999993, 'total_time': 0.211480144}, 'model_name': 'gemma2-9b-it', 'system_fingerprint': 'fp_10c08bf97d', 'finish_reason': 'tool_calls', 'logprobs': None}, id='run-673bb498-f2ec-42ea-aa09-61a6e99911c9-0', tool_calls=[{'name': 'tavily_search_results_json', 'args': {'query': 'gena i'}, 'id': 'call_j4be', 'type': 'tool_call'}], usage_metadata={'input_tokens': 985, 'output_tokens': 87, 'total_tokens': 1072})"
      ]
     },
     "execution_count": 151,
     "metadata": {},
     "output_type": "execute_result"
    }
   ],
   "source": [
    "model_with_tools.invoke(\"what is gena i\")"
   ]
  },
  {
   "cell_type": "code",
   "execution_count": 152,
   "metadata": {},
   "outputs": [],
   "source": [
    "class AgentState(TypedDict):\n",
    "    messages:Annotated[list,add_messages]"
   ]
  },
  {
   "cell_type": "code",
   "execution_count": 153,
   "metadata": {},
   "outputs": [],
   "source": [
    "def call_llm(state:AgentState):\n",
    "    return {\"messages\":[model_with_tools.invoke(state['messages'])]}"
   ]
  },
  {
   "cell_type": "code",
   "execution_count": 154,
   "metadata": {},
   "outputs": [],
   "source": [
    "graph=StateGraph(AgentState)"
   ]
  },
  {
   "cell_type": "code",
   "execution_count": 155,
   "metadata": {},
   "outputs": [
    {
     "data": {
      "text/plain": [
       "<langgraph.graph.state.StateGraph at 0x2084ea443b0>"
      ]
     },
     "execution_count": 155,
     "metadata": {},
     "output_type": "execute_result"
    }
   ],
   "source": [
    "graph.add_node(\"ai_assisstance\",call_llm)\n",
    "tool_node=ToolNode(tools=tools)\n",
    "graph.add_node(\"tools\",tool_node)\n"
   ]
  },
  {
   "cell_type": "code",
   "execution_count": 156,
   "metadata": {},
   "outputs": [
    {
     "data": {
      "text/plain": [
       "<langgraph.graph.state.StateGraph at 0x2084ea443b0>"
      ]
     },
     "execution_count": 156,
     "metadata": {},
     "output_type": "execute_result"
    }
   ],
   "source": [
    "graph.add_conditional_edges(\"ai_assisstance\",tools_condition)\n",
    "graph.add_edge(START,\"ai_assisstance\")\n",
    "graph.add_edge(\"tools\",\"ai_assisstance\")"
   ]
  },
  {
   "cell_type": "code",
   "execution_count": 157,
   "metadata": {},
   "outputs": [],
   "source": [
    "memory=MemorySaver()"
   ]
  },
  {
   "cell_type": "code",
   "execution_count": 158,
   "metadata": {},
   "outputs": [],
   "source": [
    "app=graph.compile(checkpointer=memory,interrupt_before=['tools'])"
   ]
  },
  {
   "cell_type": "code",
   "execution_count": 159,
   "metadata": {},
   "outputs": [
    {
     "data": {
      "image/jpeg": "[encoded data removed]",
      "text/plain": [
       "<IPython.core.display.Image object>"
      ]
     },
     "metadata": {},
     "output_type": "display_data"
    }
   ],
   "source": [
    "try:\n",
    "    display(Image(app.get_graph().draw_mermaid_png()))\n",
    "except:\n",
    "    pass"
   ]
  },
  {
   "cell_type": "code",
   "execution_count": 160,
   "metadata": {},
   "outputs": [],
   "source": [
    "input=\"which state is called electronic capital in india\"\n",
    "config={\"configurable\":{\"thread_id\":\"1\"}}\n",
    "events=app.stream({\"messages\":[(\"user\",input)]},config=config,stream_mode=\"values\")"
   ]
  },
  {
   "cell_type": "code",
   "execution_count": 161,
   "metadata": {},
   "outputs": [
    {
     "name": "stdout",
     "output_type": "stream",
     "text": [
      "================================\u001b[1m Human Message \u001b[0m=================================\n",
      "\n",
      "which state is called electronic capital in india\n",
      "==================================\u001b[1m Ai Message \u001b[0m==================================\n",
      "Tool Calls:\n",
      "  tavily_search_results_json (call_d55j)\n",
      " Call ID: call_d55j\n",
      "  Args:\n",
      "    query: which state is called electronic capital in india\n"
     ]
    }
   ],
   "source": [
    "for event in events:\n",
    "    if \"messages\" in event:\n",
    "        event['messages'][-1].pretty_print()"
   ]
  },
  {
   "cell_type": "code",
   "execution_count": 162,
   "metadata": {},
   "outputs": [],
   "source": [
    "snapshot=app.get_state(config)"
   ]
  },
  {
   "cell_type": "code",
   "execution_count": 163,
   "metadata": {},
   "outputs": [
    {
     "data": {
      "text/plain": [
       "StateSnapshot(values={'messages': [HumanMessage(content='which state is called electronic capital in india', additional_kwargs={}, response_metadata={}, id='8d27143f-e950-42a8-a185-f575644961d7'), AIMessage(content='', additional_kwargs={'tool_calls': [{'id': 'call_d55j', 'function': {'arguments': '{\"query\":\"which state is called electronic capital in india\"}', 'name': 'tavily_search_results_json'}, 'type': 'function'}]}, response_metadata={'token_usage': {'completion_tokens': 93, 'prompt_tokens': 989, 'total_tokens': 1082, 'completion_time': 0.169090909, 'prompt_time': 0.031280204, 'queue_time': 0.022447790000000002, 'total_time': 0.200371113}, 'model_name': 'gemma2-9b-it', 'system_fingerprint': 'fp_10c08bf97d', 'finish_reason': 'tool_calls', 'logprobs': None}, id='run-9eee2245-1be3-43f7-83f3-c79693ad25f1-0', tool_calls=[{'name': 'tavily_search_results_json', 'args': {'query': 'which state is called electronic capital in india'}, 'id': 'call_d55j', 'type': 'tool_call'}], usage_metadata={'input_tokens': 989, 'output_tokens': 93, 'total_tokens': 1082})]}, next=('tools',), config={'configurable': {'thread_id': '1', 'checkpoint_ns': '', 'checkpoint_id': '1efc95ac-454f-6999-8001-ed4d14657beb'}}, metadata={'source': 'loop', 'writes': {'ai_assisstance': {'messages': [AIMessage(content='', additional_kwargs={'tool_calls': [{'id': 'call_d55j', 'function': {'arguments': '{\"query\":\"which state is called electronic capital in india\"}', 'name': 'tavily_search_results_json'}, 'type': 'function'}]}, response_metadata={'token_usage': {'completion_tokens': 93, 'prompt_tokens': 989, 'total_tokens': 1082, 'completion_time': 0.169090909, 'prompt_time': 0.031280204, 'queue_time': 0.022447790000000002, 'total_time': 0.200371113}, 'model_name': 'gemma2-9b-it', 'system_fingerprint': 'fp_10c08bf97d', 'finish_reason': 'tool_calls', 'logprobs': None}, id='run-9eee2245-1be3-43f7-83f3-c79693ad25f1-0', tool_calls=[{'name': 'tavily_search_results_json', 'args': {'query': 'which state is called electronic capital in india'}, 'id': 'call_d55j', 'type': 'tool_call'}], usage_metadata={'input_tokens': 989, 'output_tokens': 93, 'total_tokens': 1082})]}}, 'thread_id': '1', 'step': 1, 'parents': {}}, created_at='2025-01-02T22:41:54.991759+00:00', parent_config={'configurable': {'thread_id': '1', 'checkpoint_ns': '', 'checkpoint_id': '1efc95ac-3e5c-6e51-8000-15939958cc22'}}, tasks=(PregelTask(id='0276d525-6882-d4b8-d26d-7304b75ae4bc', name='tools', path=('__pregel_pull', 'tools'), error=None, interrupts=(), state=None, result=None),))"
      ]
     },
     "execution_count": 163,
     "metadata": {},
     "output_type": "execute_result"
    }
   ],
   "source": [
    "snapshot"
   ]
  },
  {
   "cell_type": "code",
   "execution_count": 164,
   "metadata": {},
   "outputs": [
    {
     "data": {
      "text/plain": [
       "('tools',)"
      ]
     },
     "execution_count": 164,
     "metadata": {},
     "output_type": "execute_result"
    }
   ],
   "source": [
    "snapshot.next"
   ]
  },
  {
   "cell_type": "code",
   "execution_count": 165,
   "metadata": {},
   "outputs": [],
   "source": [
    "last_message=snapshot.values['messages'][-1]"
   ]
  },
  {
   "cell_type": "code",
   "execution_count": 166,
   "metadata": {},
   "outputs": [
    {
     "data": {
      "text/plain": [
       "AIMessage(content='', additional_kwargs={'tool_calls': [{'id': 'call_d55j', 'function': {'arguments': '{\"query\":\"which state is called electronic capital in india\"}', 'name': 'tavily_search_results_json'}, 'type': 'function'}]}, response_metadata={'token_usage': {'completion_tokens': 93, 'prompt_tokens': 989, 'total_tokens': 1082, 'completion_time': 0.169090909, 'prompt_time': 0.031280204, 'queue_time': 0.022447790000000002, 'total_time': 0.200371113}, 'model_name': 'gemma2-9b-it', 'system_fingerprint': 'fp_10c08bf97d', 'finish_reason': 'tool_calls', 'logprobs': None}, id='run-9eee2245-1be3-43f7-83f3-c79693ad25f1-0', tool_calls=[{'name': 'tavily_search_results_json', 'args': {'query': 'which state is called electronic capital in india'}, 'id': 'call_d55j', 'type': 'tool_call'}], usage_metadata={'input_tokens': 989, 'output_tokens': 93, 'total_tokens': 1082})"
      ]
     },
     "execution_count": 166,
     "metadata": {},
     "output_type": "execute_result"
    }
   ],
   "source": [
    "last_message"
   ]
  },
  {
   "cell_type": "code",
   "execution_count": 167,
   "metadata": {},
   "outputs": [
    {
     "data": {
      "text/plain": [
       "[{'name': 'tavily_search_results_json',\n",
       "  'args': {'query': 'which state is called electronic capital in india'},\n",
       "  'id': 'call_d55j',\n",
       "  'type': 'tool_call'}]"
      ]
     },
     "execution_count": 167,
     "metadata": {},
     "output_type": "execute_result"
    }
   ],
   "source": [
    "last_message.tool_calls"
   ]
  },
  {
   "cell_type": "code",
   "execution_count": 168,
   "metadata": {},
   "outputs": [],
   "source": [
    "events=app.stream(None,config,stream_mode='values')"
   ]
  },
  {
   "cell_type": "code",
   "execution_count": 169,
   "metadata": {},
   "outputs": [
    {
     "name": "stdout",
     "output_type": "stream",
     "text": [
      "==================================\u001b[1m Ai Message \u001b[0m==================================\n",
      "Tool Calls:\n",
      "  tavily_search_results_json (call_d55j)\n",
      " Call ID: call_d55j\n",
      "  Args:\n",
      "    query: which state is called electronic capital in india\n",
      "=================================\u001b[1m Tool Message \u001b[0m=================================\n",
      "Name: tavily_search_results_json\n",
      "\n",
      "[{\"url\": \"https://testbook.com/question-answer/which-one-of-the-following-cities-is-known-as-lsq--6260f07312b2f8b0645a389d\", \"content\": \"The correct answer is Bangalore.. Key Points. Bangalore is called the electronic capital of India.; It is also known as the Silicon Valley of India; The capital of the state of Karnataka in India.; It is one of the largest electronic/IT industrial parks in India, spread over 800 acres.; Additional Information\"}, {\"url\": \"https://brainly.in/question/59492902\", \"content\": \"Bengaluru is the capital of the state of Karnataka in southern India. It is one of the largest and most populous cities in India, with a population of over 10 million people. ¹ Bengaluru is called the electronic capital of India because it is the hub of the country's information technology (IT) industry.\"}, {\"url\": \"https://www.ncesc.com/geographic-pedia/which-city-is-known-as-electronic-city-of-india/\", \"content\": \"As an Ecotourism Specialist, I am often asked about the electronic city of India. The city that is widely known as the electronic city of India is Bangalore or Bengaluru. Located in the state of Karnataka, Bangalore has earned this title due to its thriving electronics industry and technological advancements. Bangalore is the capital of … Which city is known as electronic city of India? Read\"}, {\"url\": \"https://www.ncesc.com/geographic-faq/which-city-is-electronic-city/\", \"content\": \"Electronic City, also known as the ‘Electronic City of India’, is located in Bangalore (Bengaluru), the capital city of Karnataka state. It is a major hub for the information technology industry in India, housing numerous electronic/IT industrial parks. Which city is called as Electronic City? The city known as Electronic …\"}, {\"url\": \"https://byjus.com/question-answer/which-city-is-known-as-the-electronic-capital-of-india/\", \"content\": \"Bengaluru is the capital of the state Karnataka in India. Bangalore usually experiences a more moderate climate throughout the year, although occasional heat waves can make summer somewhat uncomfortable. ... Bengaluru is called electronic capital of India because it plays a maximum role as the nation’s leading information technology (IT\"}]\n",
      "==================================\u001b[1m Ai Message \u001b[0m==================================\n",
      "\n",
      "Bangalore\n"
     ]
    }
   ],
   "source": [
    "for event in events:\n",
    "    if \"messages\" in event:\n",
    "        event['messages'][-1].pretty_print()"
   ]
  },
  {
   "cell_type": "code",
   "execution_count": 170,
   "metadata": {},
   "outputs": [],
   "source": [
    "input1=\"what is the weather in begaluru\"\n",
    "events=app.stream({\"messages\":[\"user\",input1]},config=config,stream_mode='values')"
   ]
  },
  {
   "cell_type": "code",
   "execution_count": 171,
   "metadata": {},
   "outputs": [
    {
     "name": "stdout",
     "output_type": "stream",
     "text": [
      "================================\u001b[1m Human Message \u001b[0m=================================\n",
      "\n",
      "what is the weather in begaluru\n",
      "==================================\u001b[1m Ai Message \u001b[0m==================================\n",
      "Tool Calls:\n",
      "  tavily_search_results_json (call_cds3)\n",
      " Call ID: call_cds3\n",
      "  Args:\n",
      "    query: weather in bangalore\n"
     ]
    }
   ],
   "source": [
    "for event in events:\n",
    "    if \"messages\" in event:\n",
    "        event['messages'][-1].pretty_print()"
   ]
  },
  {
   "cell_type": "code",
   "execution_count": 172,
   "metadata": {},
   "outputs": [],
   "source": [
    "snapshot=app.get_state(config)"
   ]
  },
  {
   "cell_type": "code",
   "execution_count": 174,
   "metadata": {},
   "outputs": [],
   "source": [
    "current_state=snapshot.values['messages'][-1]"
   ]
  },
  {
   "cell_type": "code",
   "execution_count": 181,
   "metadata": {},
   "outputs": [
    {
     "data": {
      "text/plain": [
       "AIMessage(content='', additional_kwargs={'tool_calls': [{'id': 'call_cds3', 'function': {'arguments': '{\"query\":\"weather in bangalore\"}', 'name': 'tavily_search_results_json'}, 'type': 'function'}]}, response_metadata={'token_usage': {'completion_tokens': 52, 'prompt_tokens': 1634, 'total_tokens': 1686, 'completion_time': 0.094545455, 'prompt_time': 0.064057833, 'queue_time': 0.022292736000000007, 'total_time': 0.158603288}, 'model_name': 'gemma2-9b-it', 'system_fingerprint': 'fp_10c08bf97d', 'finish_reason': 'tool_calls', 'logprobs': None}, id='run-785a5fe9-ad90-4186-9e36-b3ea51d7de3d-0', tool_calls=[{'name': 'tavily_search_results_json', 'args': {'query': 'weather in bangalore'}, 'id': 'call_cds3', 'type': 'tool_call'}], usage_metadata={'input_tokens': 1634, 'output_tokens': 52, 'total_tokens': 1686})"
      ]
     },
     "execution_count": 181,
     "metadata": {},
     "output_type": "execute_result"
    }
   ],
   "source": [
    "current_state"
   ]
  },
  {
   "cell_type": "code",
   "execution_count": 177,
   "metadata": {},
   "outputs": [
    {
     "name": "stdout",
     "output_type": "stream",
     "text": [
      "==================================\u001b[1m Ai Message \u001b[0m==================================\n",
      "Tool Calls:\n",
      "  tavily_search_results_json (call_cds3)\n",
      " Call ID: call_cds3\n",
      "  Args:\n",
      "    query: weather in bangalore\n"
     ]
    }
   ],
   "source": [
    "current_state.pretty_print()"
   ]
  },
  {
   "cell_type": "code",
   "execution_count": 193,
   "metadata": {},
   "outputs": [],
   "source": [
    "id=current_state.tool_calls[0]['id']"
   ]
  },
  {
   "cell_type": "code",
   "execution_count": 194,
   "metadata": {},
   "outputs": [
    {
     "data": {
      "text/plain": [
       "'call_cds3'"
      ]
     },
     "execution_count": 194,
     "metadata": {},
     "output_type": "execute_result"
    }
   ],
   "source": [
    "id"
   ]
  },
  {
   "cell_type": "code",
   "execution_count": 182,
   "metadata": {},
   "outputs": [],
   "source": [
    "answer=\"weather in the begaluru is 28 celsius\""
   ]
  },
  {
   "cell_type": "code",
   "execution_count": 185,
   "metadata": {},
   "outputs": [],
   "source": [
    "new_message=[\n",
    "    ToolMessage(content=answer,tool_call_id=id),\n",
    "    AIMessage(content=answer)\n",
    "]"
   ]
  },
  {
   "cell_type": "code",
   "execution_count": 187,
   "metadata": {},
   "outputs": [
    {
     "data": {
      "text/plain": [
       "{'configurable': {'thread_id': '1',\n",
       "  'checkpoint_ns': '',\n",
       "  'checkpoint_id': '1efc95bc-9e1b-6214-8007-62e999cf908b'}}"
      ]
     },
     "execution_count": 187,
     "metadata": {},
     "output_type": "execute_result"
    }
   ],
   "source": [
    "app.update_state(config,{\"messages\":new_message})"
   ]
  },
  {
   "cell_type": "code",
   "execution_count": 191,
   "metadata": {},
   "outputs": [
    {
     "name": "stdout",
     "output_type": "stream",
     "text": [
      "[AIMessage(content='weather in the begaluru is 28 celsius', additional_kwargs={}, response_metadata={}, id='333cfb91-dffc-4419-b406-55ad86565799')]\n"
     ]
    }
   ],
   "source": [
    "print(app.get_state(config).values[\"messages\"][-1:])"
   ]
  }
 ],
 "metadata": {
  "kernelspec": {
   "display_name": "venv",
   "language": "python",
   "name": "python3"
  },
  "language_info": {
   "codemirror_mode": {
    "name": "ipython",
    "version": 3
   },
   "file_extension": ".py",
   "mimetype": "text/x-python",
   "name": "python",
   "nbconvert_exporter": "python",
   "pygments_lexer": "ipython3",
   "version": "3.12.2"
  }
 },
 "nbformat": 4,
 "nbformat_minor": 2
}
