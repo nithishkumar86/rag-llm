{
 "cells": [
  {
   "cell_type": "code",
   "execution_count": null,
   "metadata": {},
   "outputs": [],
   "source": [
    "#To use, you should have the wikipedia python package installed.\n",
    "#This wrapper will use the Wikipedia API to conduct searches and fetch page summaries. \n",
    "#By default, it will return the page summaries of the top-k results.\n",
    "#It limits the Document content by doc_content_chars_max.\n",
    "from langchain_community.utilities import ArxivAPIWrapper,WikipediaAPIWrapper\n"
   ]
  },
  {
   "cell_type": "code",
   "execution_count": null,
   "metadata": {},
   "outputs": [],
   "source": [
    "from langchain_community.tools import ArxivQueryRun,WikipediaQueryRun,DuckDuckGoSearchRun\n",
    "#this is basically interacting the tools itself with outside the world with \n",
    "#the information present in arxiv or wikipedia"
   ]
  },
  {
   "cell_type": "code",
   "execution_count": 35,
   "metadata": {},
   "outputs": [],
   "source": [
    "search=DuckDuckGoSearchRun(name=\"Search\")#anything that search from internet"
   ]
  },
  {
   "cell_type": "code",
   "execution_count": 36,
   "metadata": {},
   "outputs": [
    {
     "data": {
      "text/plain": [
       "'Search'"
      ]
     },
     "execution_count": 36,
     "metadata": {},
     "output_type": "execute_result"
    }
   ],
   "source": [
    "search.name"
   ]
  },
  {
   "cell_type": "code",
   "execution_count": 4,
   "metadata": {},
   "outputs": [],
   "source": [
    "from langchain.agents import initialize_agent,AgentType"
   ]
  },
  {
   "cell_type": "code",
   "execution_count": null,
   "metadata": {},
   "outputs": [],
   "source": [
    "wikipediawrapper=WikipediaAPIWrapper(top_k_results=1,doc_content_chars_max=250)\n",
    "wiki=WikipediaQueryRun(api_wrapper=wikipediawrapper)"
   ]
  },
  {
   "cell_type": "code",
   "execution_count": 6,
   "metadata": {},
   "outputs": [
    {
     "data": {
      "text/plain": [
       "'wikipedia'"
      ]
     },
     "execution_count": 6,
     "metadata": {},
     "output_type": "execute_result"
    }
   ],
   "source": [
    "wiki.name"
   ]
  },
  {
   "cell_type": "code",
   "execution_count": 7,
   "metadata": {},
   "outputs": [],
   "source": [
    "arxivwrapper=ArxivAPIWrapper(top_k_results=1,doc_content_chars_max=250)\n",
    "arxiv=ArxivQueryRun(api_wrapper=arxivwrapper)"
   ]
  },
  {
   "cell_type": "code",
   "execution_count": 8,
   "metadata": {},
   "outputs": [
    {
     "data": {
      "text/plain": [
       "'arxiv'"
      ]
     },
     "execution_count": 8,
     "metadata": {},
     "output_type": "execute_result"
    }
   ],
   "source": [
    "arxiv.name"
   ]
  },
  {
   "cell_type": "code",
   "execution_count": 39,
   "metadata": {},
   "outputs": [],
   "source": [
    "#creating our own custom tools"
   ]
  },
  {
   "cell_type": "code",
   "execution_count": 10,
   "metadata": {},
   "outputs": [
    {
     "name": "stderr",
     "output_type": "stream",
     "text": [
      "USER_AGENT environment variable not set, consider setting it to identify your requests.\n"
     ]
    },
    {
     "data": {
      "text/plain": [
       "[Document(metadata={'source': 'https://www.britannica.com/biography/A-P-J-Abdul-Kalam', 'title': 'A.P.J. Abdul Kalam | Biography, History, Career, Books, Awards, & Facts | Britannica', 'description': 'A.P.J. Abdul Kalam, the esteemed scientist and former president of India, left an enduring legacy through his contributions to space research and inspired millions with his vision for a prosperous country.', 'language': 'en'}, page_content=\"\\n\\n\\n\\n\\n\\n\\n\\n\\n\\n\\n\\n\\nA.P.J. Abdul Kalam | Biography, History, Career, Books, Awards, & Facts | Britannica\\n\\n\\n\\n\\n\\n\\n\\n\\n\\n\\n\\n\\n\\n\\n\\n\\n\\n\\n\\n\\n\\n\\n\\n\\n\\n\\n\\n\\n\\n\\n\\n\\n\\n\\n\\n\\n\\n\\n\\n\\n\\n\\n\\n\\nSearch Britannica\\n\\n\\n\\n\\n\\nClick here to search\\n\\n\\n\\n\\n\\n\\n\\n\\n\\n\\n\\nSearch Britannica\\n\\n\\n\\n\\n\\nClick here to search\\n\\n\\n\\n\\n\\n\\n\\n   Subscribe\\n\\n\\n\\n   Subscribe\\n\\n\\nLogin\\n\\nhttps://premium.britannica.com/premium-membership/?utm_source=premium&utm_medium=nav-login-box&utm_campaign=evergreen\\n\\n\\n\\n\\n\\n\\n\\n  Subscribe \\xa0Now\\n\\n\\n\\n\\nHome\\nHistory & Society\\nScience & Tech\\nBiographies\\nAnimals & Nature\\nGeography & Travel\\nArts & Culture\\nProCon\\nMoney\\n\\n\\nGames & Quizzes\\nVideos\\nOn This Day\\nOne Good Fact\\nDictionary\\nNew Articles\\n\\nHistory & Society\\n\\nLifestyles & Social Issues\\nPhilosophy & Religion\\nPolitics, Law & Government\\nWorld History\\n\\nScience & Tech\\n\\nHealth & Medicine\\nScience\\nTechnology\\n\\nBiographies\\n\\nBrowse Biographies\\n\\nAnimals & Nature\\n\\nBirds, Reptiles & Other Vertebrates\\nBugs, Mollusks & Other Invertebrates\\nEnvironment\\nFossils & Geologic Time\\nMammals\\nPlants\\n\\nGeography & Travel\\n\\nGeography & Travel\\n\\nArts & Culture\\n\\nEntertainment & Pop Culture\\nLiterature\\nSports & Recreation\\nVisual Arts\\n\\n\\nCompanions\\nDemystified\\nImage Galleries\\nLists\\nPodcasts\\nSpotlight\\nSummaries\\nThe Forum\\nTop Questions\\n#WTFact\\n\\n\\nBritannica Kids\\n\\n\\n\\n\\n\\n\\n\\n\\nAsk the Chatbot\\nGames & Quizzes\\nHistory & Society\\nScience & Tech\\nBiographies\\nAnimals & Nature\\nGeography & Travel\\nArts & Culture\\nProCon\\nMoney\\nVideos\\n\\n\\n\\n\\n\\n\\n\\n\\n\\n\\n\\n\\n\\n\\n\\n\\n\\n\\n\\n\\n\\n\\n\\n\\nA.P.J. Abdul Kalam\\n\\n\\n\\n\\n\\n\\n\\n\\n                    Table of Contents\\n                \\nIntroduction & Top QuestionsEarly life and careerMissile programNuclear testsPresidencyLegacy\\nReferences & Edit History\\nQuick Facts & Related Topics\\n\\n\\nImages\\n\\n\\n\\n\\n\\n\\n\\n\\n\\n\\n\\n\\n\\n\\n\\n\\n\\n\\n\\n                        For Students\\n                    \\n\\n\\n\\n\\n\\n\\n\\nA.P.J. Abdul Kalam summary\\n\\n\\n\\n\\n\\n                        Quizzes\\n                    \\n\\n\\n\\n\\n\\n\\n\\nExplore India Quiz\\n\\n\\n\\n\\n\\n                        Related Questions\\n                    \\n\\nWhat is A.P.J. Abdul Kalam known for?\\n\\nWhat organizations was A.P.J. Abdul Kalam associated with?\\n\\nWhen and how did A.P.J. Abdul Kalam enter politics?\\n\\nWhich country had the most nuclear weapons?\\n\\nWhat are the oldest known civilizations of India?\\n\\n\\n\\n\\n\\n                        Read Next\\n                    \\n\\n\\n\\n\\n\\n\\n\\nWhy Does a Mushroom Cloud Look Like a Mushroom?\\n\\n\\n\\n\\n\\n\\n\\n\\n\\n70 Years After Hiroshima\\n\\n\\n\\n\\n\\n\\n\\n\\n\\nThe First Atomic Bombs Tested and Used During World War II\\n\\n\\n\\n\\n\\n\\n\\n\\n\\n7 Deadliest Weapons in History\\n\\n\\n\\n\\n\\n\\n\\n\\n\\nWhat’s the Difference Between a President and a Prime Minister?\\n\\n\\n\\n\\n\\n                        Discover\\n                    \\n\\n\\n\\n\\n\\n\\n\\nCan You Drink Water from a Cactus?\\n\\n\\n\\n\\n\\n\\n\\n\\n\\nWhat’s the Difference Between Bison and Buffalo?\\n\\n\\n\\n\\n\\n\\n\\n\\n\\n9 Things You Might Not Know About Adolf Hitler\\n\\n\\n\\n\\n\\n\\n\\n\\n\\n7 Winter Solstice Celebrations From Around the World\\n\\n\\n\\n\\n\\n\\n\\n\\n\\nWhat’s the Difference Between Modern and Contemporary Art?\\n\\n\\n\\n\\n\\n\\n\\n\\n\\n9 Noteworthy Bog Bodies (And What They Tell Us)\\n\\n\\n\\n\\n\\n\\n\\n\\n\\n10 Great Sports Rivalries\\n\\n\\n\\n\\n\\n\\n\\n\\n\\n\\n\\n\\n\\n\\n\\n\\n\\n\\n\\n\\n\\n\\t\\n\\t\\t\\t\\tContents\\n\\t\\t\\t\\n\\n\\n\\n\\n\\n\\n\\n\\n\\n\\nPolitics, Law & Government\\n\\n\\nWorld Leaders\\n\\n\\nPresidents & Heads of States\\n\\n\\n\\n\\n\\n\\n\\n\\n\\n\\n\\n\\n\\n\\n\\n\\n\\n\\n\\n\\n\\nA.P.J. Abdul Kalam\\nScientist and former president of India A.P.J. Abdul Kalam, 2008.\\n\\n(more)\\n\\n\\n\\n\\n\\n\\n\\n\\n\\n\\nA.P.J. Abdul Kalam\\n\\npresident of India\\n\\n\\n\\n\\n\\n\\tAsk the Chatbot a Question\\n\\n\\n\\n\\n\\n\\t\\n    \\n            More Actions\\n        \\n\\n\\n\\n\\n\\t\\n                                Print\\n                            \\n\\n\\n\\nprint\\n\\t\\t\\tPrint\\n\\t\\t\\n\\n\\t\\t\\tPlease select which sections you would like to print:\\n\\t\\t\\n\\n\\n\\nTable Of Contents\\n\\n\\n\\n\\n\\n\\n\\n\\n\\n\\n\\t\\n\\t\\t\\t\\n\\t\\t\\tCite\\n\\t\\t\\n\\n\\n\\nverifiedCite\\n\\t\\t\\n\\n\\t\\t\\tWhile every effort has been made to follow citation style rules, there may be some discrepancies.\\n\\t\\t\\tPlease refer to the appropriate style manual or other sources if you have any questions.\\n\\t\\t\\nSelect Citation Style\\n\\nMLA\\nAPA\\nChicago Manual of Style\\n\\n\\n\\n\\n\\n\\nCopy Citation\\n\\n\\n\\n\\n\\n\\n\\n\\t\\n            \\n            Share\\n        \\n\\n\\n\\n\\n\\t\\n            Share\\n        \\nShare to social media\\n\\nFacebook\\nX\\n\\nURL\\nhttps://www.britannica.com/biography/A-P-J-Abdul-Kalam\\n\\n\\n\\n\\n\\n\\n\\t\\n                        Feedback\\n                    \\n\\n\\n\\n\\n\\t\\n                        External Websites\\n                    \\n\\n\\n\\n\\n\\n\\t\\t\\tFeedback\\n\\t\\t\\n\\n\\n\\t\\t\\t\\tCorrections? Updates? Omissions? Let us know if you have suggestions to improve this article (requires login).\\n\\t\\t\\t\\n\\nFeedback Type\\n\\nSelect a type (Required)\\nFactual Correction\\nSpelling/Grammar Correction\\nLink Correction\\nAdditional Information\\nOther\\n\\n\\nYour Feedback\\n\\nSubmit Feedback\\n\\n\\nThank you for your feedback\\nOur editors will review what you’ve submitted and determine whether to revise the article.\\n\\n\\n\\n\\n\\n\\n                    External Websites\\n                \\n\\n\\nOfficial Site of Dr APJ Abdul Kalam International Foundation\\nIndiaNetzone - A.P.J. Abdul Kalam\\nCultural India - A. P. J. Abdul Kalam\\nMaps of India - A.P.J. Abdul Kalam Biography\\nBBC News - Abdul Kalam: People’s president, extraordinary Indian\\n\\n\\n\\n\\n\\n\\n\\n\\n\\tAsk the Chatbot a Question\\n\\nAlso known as: Avul Pakir Jainulabdeen Abdul Kalam\\n\\n\\n\\n\\t\\t\\t\\n\\t\\t\\t\\tWritten and fact-checked by\\n\\t\\t\\t\\t\\n\\n\\nThe Editors of Encyclopaedia Britannica\\nEncyclopaedia Britannica's editors oversee subject areas in which they have extensive knowledge, whether from years of experience gained by working on that content or via study for an advanced degree. They write new content and verify and edit content received from contributors.\\n\\n\\n\\n\\n  The Editors of Encyclopaedia Britannica\\n\\n\\n\\t\\t\\t\\t\\tLast Updated: \\n\\n\\n\\n\\n\\n\\n\\n\\n\\n\\n\\n\\n\\n\\n\\n\\n\\n\\n\\n\\n\\n\\n\\n\\n\\n\\n\\n\\n\\n\\n\\n\\n\\n\\n\\n\\n\\nNov 21, 2024\\n•\\nArticle History\\n\\n\\n\\n\\n\\t\\n\\t\\t\\tTable of Contents\\n\\t\\t\\n\\n\\n\\n\\t\\n\\t\\t\\tTable of Contents\\n\\t\\t\\n\\n\\tAsk the Chatbot a Question\\n\\n\\n\\n\\n\\t\\t\\t\\tQuick Facts\\n\\n\\n\\n\\nIn full: \\nAvul Pakir Jainulabdeen Abdul Kalam\\n\\n\\n(Show\\xa0more)\\n\\n\\n\\n\\n\\n\\nBorn: \\nOctober 15, 1931, Rameswaram, India\\n\\n\\n(Show\\xa0more)\\n\\n\\n\\n\\n\\n\\nDied: \\nJuly 27, 2015, Shillong (aged  83)\\n\\n\\n(Show\\xa0more)\\n\\n\\n\\n\\n\\n\\nTitle / Office: \\npresident (2002-2007), India\\n\\n\\n(Show\\xa0more)\\n\\n\\n\\n\\n\\n\\nPolitical Affiliation: \\nNational Democratic Alliance\\n\\n\\n(Show\\xa0more)\\n\\n\\n\\n\\n\\t\\t\\t\\t\\t\\t\\t\\tSee all related content\\n\\t\\t\\t\\t\\t\\t\\t\\n\\n\\n\\n\\n\\n\\t\\t\\t\\tTop Questions\\n\\t\\t\\tWhat is A.P.J. Abdul Kalam known for?A.P.J. Abdul Kalam served as president of the Republic of India from 2002 to 2007. As president, Kalam promoted the advancement of the national nuclear weapons program. Kalam also devised a 20-year action plan to achieve economic growth through technological development in India.India: Government and societyLearn about the government of India.What organizations was A.P.J. Abdul Kalam associated with?A.P.J. Abdul Kalam attended the Madras Institute of Technology, where he received a degree in aeronautical engineering in 1960. After graduation he joined the Defence Research and Development Organisation (DRDO)—an Indian military research institute—and later the Indian Space Research Organisation (ISRO). Kalam’s associations were not limited to research organizations: he was also associated with political groups, such as the National Democratic Alliance (NDA).aerospace engineeringLearn more about A.P.J. Abdul Kalam’s field of study.Indian Space Research OrganisationRead more about this Indian space agency, founded in 1969.When and how did A.P.J. Abdul Kalam enter politics?A.P.J. Abdul Kalam created the Technology Vision 2020 project in 1998. The project sought to develop India’s economy through technology, particularly as applied to agriculture, and increase the availability of health care and education. In recognition of Kalam’s services to the country and broad popularity, the National Democratic Alliance nominated him for president in 2002.How many awards did A.P.J. Abdul Kalam win?A.P.J. Abdul Kalam won many awards, both from the Indian government and from the international community. His most notable awards were the Padma Vibhushan, won in 1990, and the Bharat Ratna, won in 1997, for his contributions to science and engineering and service to the government.\\n\\n\\n\\t\\t\\t\\tNews •\\n\\n\\nS M Khan, Press Secy to former President Dr Kalam, dies at 67\\n\\n• Nov. 18, 2024, 3:51 AM ET (The Indian Express)\\n\\n\\t\\t\\n\\t\\n\\n\\n\\n\\n\\t\\t\\t\\tShow less \\n\\n\\nA.P.J. Abdul Kalam (born October 15, 1931, Rameswaram, India—died July 27, 2015, Shillong) was an Indian scientist and politician who played a leading role in the development of India’s missile and nuclear weapons programs. He was president of India from 2002 to 2007. His scientific achievements and popularity gained him the epithets “Missile Man” and “People’s President.”  Early life and career Kalam was born in a town in Tamil Nadu state to a fishing boat owner from a once wealthy family. The youngest of five siblings, Kalam persevered with his education despite his impoverished circumstances. He earned a degree in aeronautical engineering from the Madras Institute of Technology and in 1958 joined the Defence Research and Development Organisation (DRDO). In 1969 he moved to the Indian Space Research Organisation (ISRO), where he was project director of the SLV-III, the first satellite launch vehicle that was both designed and produced in India. In 1980 SLV-III successfully released a satellite called Rohini into near-Earth orbit, taking India’s space program to the international stage. Kalam oversaw further development of launch vehicle technologies at ISRO, including the Polar Satellite Launch Vehicle.   Missile program Having rejoined DRDO in 1982, Kalam planned the Integrated Guided Missile Development Programme, which produced a number of successful missiles. Among them was Agni, India’s first intermediate-range ballistic missile, which incorporated aspects of the SLV-III; it was first launched in 1989. Another success was the surface-to-surface tactical missile Prithvi.\\n\\n\\nBritannica Quiz\\nExplore India Quiz\\n\\n   Nuclear tests From 1992 to 1999 Kalam was scientific adviser to India’s defense minister, and he later served as principal scientific adviser (1999–2001) to the government, with the rank of cabinet minister. During this period he played a key role in the government’s weaponization of missile systems, giving India nuclear capabilities. In 1998 he was one of the chief coordinators of the Pokhran-II series of nuclear tests, in which five bombs were detonated at a test range in the town of Pokhran, Rajasthan state. His prominent role in the country’s nuclear weapons tests solidified India as a nuclear power and established Kalam as a national hero, although the tests caused great concern in the international community. In 1998 Kalam put forward a countrywide plan called Technology Vision 2020, which he described as a road map for transforming India from a less-developed society to a developed one in 20 years. Among other measures, the plan called for increasing agricultural productivity, emphasizing technology as a vehicle for economic growth, and for widening access to health care and education.   Presidency A.P.J. Abdul KalamIndia's “People's President,” A.P.J. Abdul Kalam, 2007.(more)In 2002 India’s ruling National Democratic Alliance (NDA) put forward Kalam to succeed outgoing Pres. Kocheril Raman Narayanan. Kalam’s stature and popular appeal were such that he was nominated by the Hindu nationalist (Hindutva) NDA despite his being Muslim, and even the main opposition party, the Indian National Congress, proposed his candidacy. Kalam easily won the vote of the electoral college, defeating former revolutionary leader Lakshmi Sahgal. He was sworn in as India’s 11th president, a largely ceremonial post, in July 2002. He left office at the end of his term in 2007 and was succeeded by Pratibha Patil, the country’s first woman president.   Legacy Upon returning to civilian life, Kalam remained committed to using science and technology to transform India into a developed country, and he served as a lecturer at a number of universities. He was a visiting professor at several campuses of the Indian Institute of Management and the founding chancellor of the Indian Institute of Space Science and Technology (Thiruvananthapuram). He had great success in connecting with children and made it a personal mission to meet, interact with, and inspire young minds. On July 27, 2015, Kalam collapsed while delivering a lecture at the Indian Institute of Management Shillong and was pronounced dead from cardiac arrest soon afterward.\\n\\n\\n\\n\\n\\n\\n\\nGet Unlimited Access\\nTry Britannica Premium for free and discover more.\\n\\n\\nSubscribe\\n\\n\\n\\n Kalam wrote several books, including an autobiography, Wings of Fire (1999), and a book titled Ignited Minds (2002). Among his numerous awards were three of the country’s highest honors: the Padma Bhushan (1981), the Padma Vibhushan (1990), and the Bharat Ratna (1997).\\n A number of roads, buildings, and institutions are named for Kalam. In 2015 the name of a missile test site in Odisha state was changed from Wheeler Island to Abdul Kalam Island. In 2017 a new species of bacterium found in the International Space Station was named Solibacillus kalamii in his honor.  The Editors of Encyclopaedia Britannica This article was most recently revised and updated by Gitanjali Roy.\\n\\n\\n\\n\\n\\n\\n\\n\\n\\n\\n\\n\\n\\n\\n\\n \\n\\n\\n\\n\\n\\n\\n\\n\\n\\n\\n\\n\\n\\n\\n\")]"
      ]
     },
     "execution_count": 10,
     "metadata": {},
     "output_type": "execute_result"
    }
   ],
   "source": [
    "from langchain_community.document_loaders import WebBaseLoader\n",
    "loader=WebBaseLoader(web_paths=(\"https://www.britannica.com/biography/A-P-J-Abdul-Kalam\",),)\n",
    "docs=loader.load()\n",
    "docs"
   ]
  },
  {
   "cell_type": "code",
   "execution_count": 11,
   "metadata": {},
   "outputs": [
    {
     "data": {
      "text/plain": [
       "True"
      ]
     },
     "execution_count": 11,
     "metadata": {},
     "output_type": "execute_result"
    }
   ],
   "source": [
    "import os\n",
    "from dotenv import load_dotenv\n",
    "load_dotenv()"
   ]
  },
  {
   "cell_type": "code",
   "execution_count": 12,
   "metadata": {},
   "outputs": [],
   "source": [
    "from langchain_groq import ChatGroq\n",
    "from langchain_openai import ChatOpenAI\n",
    "from langchain_huggingface import HuggingFaceEmbeddings"
   ]
  },
  {
   "cell_type": "code",
   "execution_count": 13,
   "metadata": {},
   "outputs": [],
   "source": [
    "os.environ[\"HF_TOKEN\"]=os.getenv(\"HF_TOKEN\")"
   ]
  },
  {
   "cell_type": "code",
   "execution_count": 14,
   "metadata": {},
   "outputs": [],
   "source": [
    "groq_api_key=os.getenv(\"GROQ_API_KEY\")"
   ]
  },
  {
   "cell_type": "code",
   "execution_count": 15,
   "metadata": {},
   "outputs": [
    {
     "name": "stderr",
     "output_type": "stream",
     "text": [
      "c:\\Users\\user\\OneDrive\\Desktop\\langchain\\venv\\Lib\\site-packages\\sentence_transformers\\cross_encoder\\CrossEncoder.py:13: TqdmWarning: IProgress not found. Please update jupyter and ipywidgets. See https://ipywidgets.readthedocs.io/en/stable/user_install.html\n",
      "  from tqdm.autonotebook import tqdm, trange\n"
     ]
    }
   ],
   "source": [
    "embedding=HuggingFaceEmbeddings(model_name=\"all-MiniLM-L6-v2\")"
   ]
  },
  {
   "cell_type": "code",
   "execution_count": 16,
   "metadata": {},
   "outputs": [],
   "source": [
    "model=ChatGroq(model=\"gemma2-9b-it\",api_key=groq_api_key)"
   ]
  },
  {
   "cell_type": "code",
   "execution_count": 17,
   "metadata": {},
   "outputs": [],
   "source": [
    "from langchain_text_splitters import RecursiveCharacterTextSplitter\n",
    "from langchain_community.vectorstores import FAISS\n",
    "from langchain.tools.retriever import create_retriever_tool"
   ]
  },
  {
   "cell_type": "code",
   "execution_count": 18,
   "metadata": {},
   "outputs": [
    {
     "data": {
      "text/plain": [
       "VectorStoreRetriever(tags=['FAISS', 'HuggingFaceEmbeddings'], vectorstore=<langchain_community.vectorstores.faiss.FAISS object at 0x000001DE79923740>, search_kwargs={})"
      ]
     },
     "execution_count": 18,
     "metadata": {},
     "output_type": "execute_result"
    }
   ],
   "source": [
    "documents=RecursiveCharacterTextSplitter(chunk_size=400,chunk_overlap=100).split_documents(docs)\n",
    "vector_db=FAISS.from_documents(documents,embedding=embedding)\n",
    "db=vector_db.as_retriever()\n",
    "db"
   ]
  },
  {
   "cell_type": "code",
   "execution_count": null,
   "metadata": {},
   "outputs": [],
   "source": [
    "#we are able to create a custom tool but it is vector form for that\n",
    "#in order use it as a tool we convert db into a tool fot we use create_retriever_tool\n"
   ]
  },
  {
   "cell_type": "code",
   "execution_count": 19,
   "metadata": {},
   "outputs": [],
   "source": [
    "retriver_tool=create_retriever_tool(db,\"abdul kalam\",description=\"search information about dr APJ apdul kalam sir\")"
   ]
  },
  {
   "cell_type": "code",
   "execution_count": 20,
   "metadata": {},
   "outputs": [],
   "source": [
    "tools=[wiki,arxiv,retriver_tool]"
   ]
  },
  {
   "cell_type": "code",
   "execution_count": 21,
   "metadata": {},
   "outputs": [
    {
     "data": {
      "text/plain": [
       "[WikipediaQueryRun(api_wrapper=WikipediaAPIWrapper(wiki_client=<module 'wikipedia' from 'c:\\\\Users\\\\user\\\\OneDrive\\\\Desktop\\\\langchain\\\\venv\\\\Lib\\\\site-packages\\\\wikipedia\\\\__init__.py'>, top_k_results=1, lang='en', load_all_available_meta=False, doc_content_chars_max=250)),\n",
       " ArxivQueryRun(api_wrapper=ArxivAPIWrapper(arxiv_search=<class 'arxiv.Search'>, arxiv_exceptions=(<class 'arxiv.ArxivError'>, <class 'arxiv.UnexpectedEmptyPageError'>, <class 'arxiv.HTTPError'>), top_k_results=1, ARXIV_MAX_QUERY_LENGTH=300, continue_on_failure=False, load_max_docs=100, load_all_available_meta=False, doc_content_chars_max=250)),\n",
       " Tool(name='abdul kalam', description='search information about dr APJ apdul kalam sir', args_schema=<class 'langchain_core.tools.retriever.RetrieverInput'>, func=functools.partial(<function _get_relevant_documents at 0x000001DE45500C20>, retriever=VectorStoreRetriever(tags=['FAISS', 'HuggingFaceEmbeddings'], vectorstore=<langchain_community.vectorstores.faiss.FAISS object at 0x000001DE79923740>, search_kwargs={}), document_prompt=PromptTemplate(input_variables=['page_content'], input_types={}, partial_variables={}, template='{page_content}'), document_separator='\\n\\n'), coroutine=functools.partial(<function _aget_relevant_documents at 0x000001DE4584EE80>, retriever=VectorStoreRetriever(tags=['FAISS', 'HuggingFaceEmbeddings'], vectorstore=<langchain_community.vectorstores.faiss.FAISS object at 0x000001DE79923740>, search_kwargs={}), document_prompt=PromptTemplate(input_variables=['page_content'], input_types={}, partial_variables={}, template='{page_content}'), document_separator='\\n\\n'))]"
      ]
     },
     "execution_count": 21,
     "metadata": {},
     "output_type": "execute_result"
    }
   ],
   "source": [
    "tools"
   ]
  },
  {
   "cell_type": "code",
   "execution_count": 22,
   "metadata": {},
   "outputs": [],
   "source": [
    "#there are different different prompts  are already created in the langchain \n",
    "# so we can easily able to pull it to our code"
   ]
  },
  {
   "cell_type": "code",
   "execution_count": 23,
   "metadata": {},
   "outputs": [],
   "source": [
    "#[SystemMessagePromptTemplate(prompt=PromptTemplate(input_variables=[], template='You are a helpful assistant')),\n",
    "#MessagesPlaceholder(variable_name='chat_history', optional=True),\n",
    "#HumanMessagePromptTemplate(prompt=PromptTemplate(input_variables=['input'], template='{input}')),\n",
    "#MessagesPlaceholder(variable_name='agent_scratchpad')]\n",
    "from langchain import hub\n",
    "prompt=hub.pull(\"hwchase17/openai-functions-agent\")"
   ]
  },
  {
   "cell_type": "code",
   "execution_count": 24,
   "metadata": {},
   "outputs": [
    {
     "data": {
      "text/plain": [
       "ChatPromptTemplate(input_variables=['agent_scratchpad', 'input'], optional_variables=['chat_history'], input_types={'chat_history': list[typing.Annotated[typing.Union[typing.Annotated[langchain_core.messages.ai.AIMessage, Tag(tag='ai')], typing.Annotated[langchain_core.messages.human.HumanMessage, Tag(tag='human')], typing.Annotated[langchain_core.messages.chat.ChatMessage, Tag(tag='chat')], typing.Annotated[langchain_core.messages.system.SystemMessage, Tag(tag='system')], typing.Annotated[langchain_core.messages.function.FunctionMessage, Tag(tag='function')], typing.Annotated[langchain_core.messages.tool.ToolMessage, Tag(tag='tool')], typing.Annotated[langchain_core.messages.ai.AIMessageChunk, Tag(tag='AIMessageChunk')], typing.Annotated[langchain_core.messages.human.HumanMessageChunk, Tag(tag='HumanMessageChunk')], typing.Annotated[langchain_core.messages.chat.ChatMessageChunk, Tag(tag='ChatMessageChunk')], typing.Annotated[langchain_core.messages.system.SystemMessageChunk, Tag(tag='SystemMessageChunk')], typing.Annotated[langchain_core.messages.function.FunctionMessageChunk, Tag(tag='FunctionMessageChunk')], typing.Annotated[langchain_core.messages.tool.ToolMessageChunk, Tag(tag='ToolMessageChunk')]], FieldInfo(annotation=NoneType, required=True, discriminator=Discriminator(discriminator=<function _get_type at 0x000001DE449E4900>, custom_error_type=None, custom_error_message=None, custom_error_context=None))]], 'agent_scratchpad': list[typing.Annotated[typing.Union[typing.Annotated[langchain_core.messages.ai.AIMessage, Tag(tag='ai')], typing.Annotated[langchain_core.messages.human.HumanMessage, Tag(tag='human')], typing.Annotated[langchain_core.messages.chat.ChatMessage, Tag(tag='chat')], typing.Annotated[langchain_core.messages.system.SystemMessage, Tag(tag='system')], typing.Annotated[langchain_core.messages.function.FunctionMessage, Tag(tag='function')], typing.Annotated[langchain_core.messages.tool.ToolMessage, Tag(tag='tool')], typing.Annotated[langchain_core.messages.ai.AIMessageChunk, Tag(tag='AIMessageChunk')], typing.Annotated[langchain_core.messages.human.HumanMessageChunk, Tag(tag='HumanMessageChunk')], typing.Annotated[langchain_core.messages.chat.ChatMessageChunk, Tag(tag='ChatMessageChunk')], typing.Annotated[langchain_core.messages.system.SystemMessageChunk, Tag(tag='SystemMessageChunk')], typing.Annotated[langchain_core.messages.function.FunctionMessageChunk, Tag(tag='FunctionMessageChunk')], typing.Annotated[langchain_core.messages.tool.ToolMessageChunk, Tag(tag='ToolMessageChunk')]], FieldInfo(annotation=NoneType, required=True, discriminator=Discriminator(discriminator=<function _get_type at 0x000001DE449E4900>, custom_error_type=None, custom_error_message=None, custom_error_context=None))]]}, partial_variables={'chat_history': []}, metadata={'lc_hub_owner': 'hwchase17', 'lc_hub_repo': 'openai-functions-agent', 'lc_hub_commit_hash': 'a1655024b06afbd95d17449f21316291e0726f13dcfaf990cc0d18087ad689a5'}, messages=[SystemMessagePromptTemplate(prompt=PromptTemplate(input_variables=[], input_types={}, partial_variables={}, template='You are a helpful assistant'), additional_kwargs={}), MessagesPlaceholder(variable_name='chat_history', optional=True), HumanMessagePromptTemplate(prompt=PromptTemplate(input_variables=['input'], input_types={}, partial_variables={}, template='{input}'), additional_kwargs={}), MessagesPlaceholder(variable_name='agent_scratchpad')])"
      ]
     },
     "execution_count": 24,
     "metadata": {},
     "output_type": "execute_result"
    }
   ],
   "source": [
    "prompt"
   ]
  },
  {
   "cell_type": "code",
   "execution_count": 25,
   "metadata": {},
   "outputs": [],
   "source": [
    "from langchain.agents import create_openai_tools_agent"
   ]
  },
  {
   "cell_type": "code",
   "execution_count": 40,
   "metadata": {},
   "outputs": [],
   "source": [
    "#for create_tools\n",
    "agent=create_openai_tools_agent(llm=model,tools=tools,prompt=prompt)"
   ]
  },
  {
   "cell_type": "code",
   "execution_count": 28,
   "metadata": {},
   "outputs": [
    {
     "data": {
      "text/plain": [
       "RunnableAssign(mapper={\n",
       "  agent_scratchpad: RunnableLambda(lambda x: format_to_openai_tool_messages(x['intermediate_steps']))\n",
       "})\n",
       "| ChatPromptTemplate(input_variables=['agent_scratchpad', 'input'], optional_variables=['chat_history'], input_types={'chat_history': list[typing.Annotated[typing.Union[typing.Annotated[langchain_core.messages.ai.AIMessage, Tag(tag='ai')], typing.Annotated[langchain_core.messages.human.HumanMessage, Tag(tag='human')], typing.Annotated[langchain_core.messages.chat.ChatMessage, Tag(tag='chat')], typing.Annotated[langchain_core.messages.system.SystemMessage, Tag(tag='system')], typing.Annotated[langchain_core.messages.function.FunctionMessage, Tag(tag='function')], typing.Annotated[langchain_core.messages.tool.ToolMessage, Tag(tag='tool')], typing.Annotated[langchain_core.messages.ai.AIMessageChunk, Tag(tag='AIMessageChunk')], typing.Annotated[langchain_core.messages.human.HumanMessageChunk, Tag(tag='HumanMessageChunk')], typing.Annotated[langchain_core.messages.chat.ChatMessageChunk, Tag(tag='ChatMessageChunk')], typing.Annotated[langchain_core.messages.system.SystemMessageChunk, Tag(tag='SystemMessageChunk')], typing.Annotated[langchain_core.messages.function.FunctionMessageChunk, Tag(tag='FunctionMessageChunk')], typing.Annotated[langchain_core.messages.tool.ToolMessageChunk, Tag(tag='ToolMessageChunk')]], FieldInfo(annotation=NoneType, required=True, discriminator=Discriminator(discriminator=<function _get_type at 0x000001DE449E4900>, custom_error_type=None, custom_error_message=None, custom_error_context=None))]], 'agent_scratchpad': list[typing.Annotated[typing.Union[typing.Annotated[langchain_core.messages.ai.AIMessage, Tag(tag='ai')], typing.Annotated[langchain_core.messages.human.HumanMessage, Tag(tag='human')], typing.Annotated[langchain_core.messages.chat.ChatMessage, Tag(tag='chat')], typing.Annotated[langchain_core.messages.system.SystemMessage, Tag(tag='system')], typing.Annotated[langchain_core.messages.function.FunctionMessage, Tag(tag='function')], typing.Annotated[langchain_core.messages.tool.ToolMessage, Tag(tag='tool')], typing.Annotated[langchain_core.messages.ai.AIMessageChunk, Tag(tag='AIMessageChunk')], typing.Annotated[langchain_core.messages.human.HumanMessageChunk, Tag(tag='HumanMessageChunk')], typing.Annotated[langchain_core.messages.chat.ChatMessageChunk, Tag(tag='ChatMessageChunk')], typing.Annotated[langchain_core.messages.system.SystemMessageChunk, Tag(tag='SystemMessageChunk')], typing.Annotated[langchain_core.messages.function.FunctionMessageChunk, Tag(tag='FunctionMessageChunk')], typing.Annotated[langchain_core.messages.tool.ToolMessageChunk, Tag(tag='ToolMessageChunk')]], FieldInfo(annotation=NoneType, required=True, discriminator=Discriminator(discriminator=<function _get_type at 0x000001DE449E4900>, custom_error_type=None, custom_error_message=None, custom_error_context=None))]]}, partial_variables={'chat_history': []}, metadata={'lc_hub_owner': 'hwchase17', 'lc_hub_repo': 'openai-functions-agent', 'lc_hub_commit_hash': 'a1655024b06afbd95d17449f21316291e0726f13dcfaf990cc0d18087ad689a5'}, messages=[SystemMessagePromptTemplate(prompt=PromptTemplate(input_variables=[], input_types={}, partial_variables={}, template='You are a helpful assistant'), additional_kwargs={}), MessagesPlaceholder(variable_name='chat_history', optional=True), HumanMessagePromptTemplate(prompt=PromptTemplate(input_variables=['input'], input_types={}, partial_variables={}, template='{input}'), additional_kwargs={}), MessagesPlaceholder(variable_name='agent_scratchpad')])\n",
       "| RunnableBinding(bound=ChatGroq(client=<groq.resources.chat.completions.Completions object at 0x000001DE749EF770>, async_client=<groq.resources.chat.completions.AsyncCompletions object at 0x000001DE749C42C0>, model_name='gemma2-9b-it', model_kwargs={}, groq_api_key=SecretStr('**********')), kwargs={'tools': [{'type': 'function', 'function': {'name': 'wikipedia', 'description': 'A wrapper around Wikipedia. Useful for when you need to answer general questions about people, places, companies, facts, historical events, or other subjects. Input should be a search query.', 'parameters': {'properties': {'query': {'description': 'query to look up on wikipedia', 'type': 'string'}}, 'required': ['query'], 'type': 'object'}}}, {'type': 'function', 'function': {'name': 'arxiv', 'description': 'A wrapper around Arxiv.org Useful for when you need to answer questions about Physics, Mathematics, Computer Science, Quantitative Biology, Quantitative Finance, Statistics, Electrical Engineering, and Economics from scientific articles on arxiv.org. Input should be a search query.', 'parameters': {'properties': {'query': {'description': 'search query to look up', 'type': 'string'}}, 'required': ['query'], 'type': 'object'}}}, {'type': 'function', 'function': {'name': 'abdul kalam', 'description': 'search information about dr APJ apdul kalam sir', 'parameters': {'properties': {'query': {'description': 'query to look up in retriever', 'type': 'string'}}, 'required': ['query'], 'type': 'object'}}}]}, config={}, config_factories=[])\n",
       "| OpenAIToolsAgentOutputParser()"
      ]
     },
     "execution_count": 28,
     "metadata": {},
     "output_type": "execute_result"
    }
   ],
   "source": [
    "agent"
   ]
  },
  {
   "cell_type": "code",
   "execution_count": 29,
   "metadata": {},
   "outputs": [],
   "source": [
    "# Create an agent executor by passing in the agent and tools\n",
    "from langchain.agents import AgentExecutor"
   ]
  },
  {
   "cell_type": "code",
   "execution_count": 30,
   "metadata": {},
   "outputs": [],
   "source": [
    "agent_executor=AgentExecutor(agent=agent,tools=tools,verbose=True)"
   ]
  },
  {
   "cell_type": "code",
   "execution_count": 31,
   "metadata": {},
   "outputs": [
    {
     "data": {
      "text/plain": [
       "AgentExecutor(verbose=True, agent=RunnableMultiActionAgent(runnable=RunnableAssign(mapper={\n",
       "  agent_scratchpad: RunnableLambda(lambda x: format_to_openai_tool_messages(x['intermediate_steps']))\n",
       "})\n",
       "| ChatPromptTemplate(input_variables=['agent_scratchpad', 'input'], optional_variables=['chat_history'], input_types={'chat_history': list[typing.Annotated[typing.Union[typing.Annotated[langchain_core.messages.ai.AIMessage, Tag(tag='ai')], typing.Annotated[langchain_core.messages.human.HumanMessage, Tag(tag='human')], typing.Annotated[langchain_core.messages.chat.ChatMessage, Tag(tag='chat')], typing.Annotated[langchain_core.messages.system.SystemMessage, Tag(tag='system')], typing.Annotated[langchain_core.messages.function.FunctionMessage, Tag(tag='function')], typing.Annotated[langchain_core.messages.tool.ToolMessage, Tag(tag='tool')], typing.Annotated[langchain_core.messages.ai.AIMessageChunk, Tag(tag='AIMessageChunk')], typing.Annotated[langchain_core.messages.human.HumanMessageChunk, Tag(tag='HumanMessageChunk')], typing.Annotated[langchain_core.messages.chat.ChatMessageChunk, Tag(tag='ChatMessageChunk')], typing.Annotated[langchain_core.messages.system.SystemMessageChunk, Tag(tag='SystemMessageChunk')], typing.Annotated[langchain_core.messages.function.FunctionMessageChunk, Tag(tag='FunctionMessageChunk')], typing.Annotated[langchain_core.messages.tool.ToolMessageChunk, Tag(tag='ToolMessageChunk')]], FieldInfo(annotation=NoneType, required=True, discriminator=Discriminator(discriminator=<function _get_type at 0x000001DE449E4900>, custom_error_type=None, custom_error_message=None, custom_error_context=None))]], 'agent_scratchpad': list[typing.Annotated[typing.Union[typing.Annotated[langchain_core.messages.ai.AIMessage, Tag(tag='ai')], typing.Annotated[langchain_core.messages.human.HumanMessage, Tag(tag='human')], typing.Annotated[langchain_core.messages.chat.ChatMessage, Tag(tag='chat')], typing.Annotated[langchain_core.messages.system.SystemMessage, Tag(tag='system')], typing.Annotated[langchain_core.messages.function.FunctionMessage, Tag(tag='function')], typing.Annotated[langchain_core.messages.tool.ToolMessage, Tag(tag='tool')], typing.Annotated[langchain_core.messages.ai.AIMessageChunk, Tag(tag='AIMessageChunk')], typing.Annotated[langchain_core.messages.human.HumanMessageChunk, Tag(tag='HumanMessageChunk')], typing.Annotated[langchain_core.messages.chat.ChatMessageChunk, Tag(tag='ChatMessageChunk')], typing.Annotated[langchain_core.messages.system.SystemMessageChunk, Tag(tag='SystemMessageChunk')], typing.Annotated[langchain_core.messages.function.FunctionMessageChunk, Tag(tag='FunctionMessageChunk')], typing.Annotated[langchain_core.messages.tool.ToolMessageChunk, Tag(tag='ToolMessageChunk')]], FieldInfo(annotation=NoneType, required=True, discriminator=Discriminator(discriminator=<function _get_type at 0x000001DE449E4900>, custom_error_type=None, custom_error_message=None, custom_error_context=None))]]}, partial_variables={'chat_history': []}, metadata={'lc_hub_owner': 'hwchase17', 'lc_hub_repo': 'openai-functions-agent', 'lc_hub_commit_hash': 'a1655024b06afbd95d17449f21316291e0726f13dcfaf990cc0d18087ad689a5'}, messages=[SystemMessagePromptTemplate(prompt=PromptTemplate(input_variables=[], input_types={}, partial_variables={}, template='You are a helpful assistant'), additional_kwargs={}), MessagesPlaceholder(variable_name='chat_history', optional=True), HumanMessagePromptTemplate(prompt=PromptTemplate(input_variables=['input'], input_types={}, partial_variables={}, template='{input}'), additional_kwargs={}), MessagesPlaceholder(variable_name='agent_scratchpad')])\n",
       "| RunnableBinding(bound=ChatGroq(client=<groq.resources.chat.completions.Completions object at 0x000001DE749EF770>, async_client=<groq.resources.chat.completions.AsyncCompletions object at 0x000001DE749C42C0>, model_name='gemma2-9b-it', model_kwargs={}, groq_api_key=SecretStr('**********')), kwargs={'tools': [{'type': 'function', 'function': {'name': 'wikipedia', 'description': 'A wrapper around Wikipedia. Useful for when you need to answer general questions about people, places, companies, facts, historical events, or other subjects. Input should be a search query.', 'parameters': {'properties': {'query': {'description': 'query to look up on wikipedia', 'type': 'string'}}, 'required': ['query'], 'type': 'object'}}}, {'type': 'function', 'function': {'name': 'arxiv', 'description': 'A wrapper around Arxiv.org Useful for when you need to answer questions about Physics, Mathematics, Computer Science, Quantitative Biology, Quantitative Finance, Statistics, Electrical Engineering, and Economics from scientific articles on arxiv.org. Input should be a search query.', 'parameters': {'properties': {'query': {'description': 'search query to look up', 'type': 'string'}}, 'required': ['query'], 'type': 'object'}}}, {'type': 'function', 'function': {'name': 'abdul kalam', 'description': 'search information about dr APJ apdul kalam sir', 'parameters': {'properties': {'query': {'description': 'query to look up in retriever', 'type': 'string'}}, 'required': ['query'], 'type': 'object'}}}]}, config={}, config_factories=[])\n",
       "| OpenAIToolsAgentOutputParser(), input_keys_arg=[], return_keys_arg=[], stream_runnable=True), tools=[WikipediaQueryRun(api_wrapper=WikipediaAPIWrapper(wiki_client=<module 'wikipedia' from 'c:\\\\Users\\\\user\\\\OneDrive\\\\Desktop\\\\langchain\\\\venv\\\\Lib\\\\site-packages\\\\wikipedia\\\\__init__.py'>, top_k_results=1, lang='en', load_all_available_meta=False, doc_content_chars_max=250)), ArxivQueryRun(api_wrapper=ArxivAPIWrapper(arxiv_search=<class 'arxiv.Search'>, arxiv_exceptions=(<class 'arxiv.ArxivError'>, <class 'arxiv.UnexpectedEmptyPageError'>, <class 'arxiv.HTTPError'>), top_k_results=1, ARXIV_MAX_QUERY_LENGTH=300, continue_on_failure=False, load_max_docs=100, load_all_available_meta=False, doc_content_chars_max=250)), Tool(name='abdul kalam', description='search information about dr APJ apdul kalam sir', args_schema=<class 'langchain_core.tools.retriever.RetrieverInput'>, func=functools.partial(<function _get_relevant_documents at 0x000001DE45500C20>, retriever=VectorStoreRetriever(tags=['FAISS', 'HuggingFaceEmbeddings'], vectorstore=<langchain_community.vectorstores.faiss.FAISS object at 0x000001DE79923740>, search_kwargs={}), document_prompt=PromptTemplate(input_variables=['page_content'], input_types={}, partial_variables={}, template='{page_content}'), document_separator='\\n\\n'), coroutine=functools.partial(<function _aget_relevant_documents at 0x000001DE4584EE80>, retriever=VectorStoreRetriever(tags=['FAISS', 'HuggingFaceEmbeddings'], vectorstore=<langchain_community.vectorstores.faiss.FAISS object at 0x000001DE79923740>, search_kwargs={}), document_prompt=PromptTemplate(input_variables=['page_content'], input_types={}, partial_variables={}, template='{page_content}'), document_separator='\\n\\n'))])"
      ]
     },
     "execution_count": 31,
     "metadata": {},
     "output_type": "execute_result"
    }
   ],
   "source": [
    "agent_executor"
   ]
  },
  {
   "cell_type": "code",
   "execution_count": 38,
   "metadata": {},
   "outputs": [
    {
     "name": "stdout",
     "output_type": "stream",
     "text": [
      "\n",
      "\n",
      "\u001b[1m> Entering new AgentExecutor chain...\u001b[0m\n",
      "\u001b[32;1m\u001b[1;3m\n",
      "Invoking: `wikipedia` with `{'query': 'machine learning'}`\n",
      "\n",
      "\n",
      "\u001b[0m\u001b[36;1m\u001b[1;3mPage: Machine learning\n",
      "Summary: Machine learning (ML) is a field of study in artificial intelligence concerned with the development and study of statistical algorithms that can learn from data and generalize to unseen data, and thus perform tasks wit\u001b[0m\u001b[32;1m\u001b[1;3mMachine learning (ML) is a field of study in artificial intelligence concerned with the development and study of statistical algorithms that can learn from data and generalize to unseen data, and thus perform tasks without being explicitly programmed. \n",
      "\n",
      "It involves training algorithms on large datasets to identify patterns and relationships, enabling them to make predictions or decisions on new, unseen data. \n",
      "\n",
      "\n",
      "\n",
      "\u001b[0m\n",
      "\n",
      "\u001b[1m> Finished chain.\u001b[0m\n"
     ]
    },
    {
     "data": {
      "text/plain": [
       "{'input': 'what is machine learning',\n",
       " 'output': 'Machine learning (ML) is a field of study in artificial intelligence concerned with the development and study of statistical algorithms that can learn from data and generalize to unseen data, and thus perform tasks without being explicitly programmed. \\n\\nIt involves training algorithms on large datasets to identify patterns and relationships, enabling them to make predictions or decisions on new, unseen data. \\n\\n\\n\\n'}"
      ]
     },
     "execution_count": 38,
     "metadata": {},
     "output_type": "execute_result"
    }
   ],
   "source": [
    "output=agent_executor.invoke({\"input\":\"what is machine learning\"})\n",
    "output"
   ]
  },
  {
   "cell_type": "code",
   "execution_count": 41,
   "metadata": {},
   "outputs": [],
   "source": [
    "#!pip install --upgrade nbformat\n",
    "#!pip install --upgrade nbconvert"
   ]
  }
 ],
 "metadata": {
  "kernelspec": {
   "display_name": "venv",
   "language": "python",
   "name": "python3"
  },
  "language_info": {
   "codemirror_mode": {
    "name": "ipython",
    "version": 3
   },
   "file_extension": ".py",
   "mimetype": "text/x-python",
   "name": "python",
   "nbconvert_exporter": "python",
   "pygments_lexer": "ipython3",
   "version": "3.12.2"
  }
 },
 "nbformat": 4,
 "nbformat_minor": 2
}
