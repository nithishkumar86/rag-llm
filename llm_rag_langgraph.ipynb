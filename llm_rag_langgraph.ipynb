{
 "cells": [
  {
   "cell_type": "code",
   "execution_count": 242,
   "metadata": {},
   "outputs": [],
   "source": [
    "#creating a llm and rag  workflow with groq using langgraph"
   ]
  },
  {
   "cell_type": "code",
   "execution_count": 240,
   "metadata": {},
   "outputs": [
    {
     "data": {
      "text/plain": [
       "True"
      ]
     },
     "execution_count": 240,
     "metadata": {},
     "output_type": "execute_result"
    }
   ],
   "source": [
    "import os\n",
    "from dotenv import load_dotenv\n",
    "load_dotenv()"
   ]
  },
  {
   "cell_type": "code",
   "execution_count": 175,
   "metadata": {},
   "outputs": [],
   "source": [
    "os.environ[\"GROQ_API_KEY\"]=os.getenv(\"GROQ_API_KEY\")"
   ]
  },
  {
   "cell_type": "code",
   "execution_count": 176,
   "metadata": {},
   "outputs": [],
   "source": [
    "from langchain_core.prompts import ChatPromptTemplate\n",
    "from langchain_groq import ChatGroq\n",
    "from langgraph.graph import Graph\n",
    "from IPython.display import display,Image"
   ]
  },
  {
   "cell_type": "code",
   "execution_count": 177,
   "metadata": {},
   "outputs": [],
   "source": [
    "llm=ChatGroq(model=\"gemma2-9b-it\")"
   ]
  },
  {
   "cell_type": "code",
   "execution_count": 178,
   "metadata": {},
   "outputs": [],
   "source": [
    "def function_1(AgentState):\n",
    "    messages=AgentState[\"messages\"]\n",
    "    question=messages[-1]\n",
    "    response=llm.invoke(question)\n",
    "    AgentState[\"messages\"].append(response.content)\n",
    "    return AgentState"
   ]
  },
  {
   "cell_type": "code",
   "execution_count": 179,
   "metadata": {},
   "outputs": [],
   "source": [
    "from langchain_community.document_loaders import PyPDFLoader\n",
    "from langchain_huggingface import HuggingFaceEmbeddings\n",
    "from langchain_text_splitters import RecursiveCharacterTextSplitter\n",
    "from langchain_community.vectorstores import FAISS"
   ]
  },
  {
   "cell_type": "code",
   "execution_count": 180,
   "metadata": {},
   "outputs": [],
   "source": [
    "os.environ[\"HF_TOKEN\"]=os.getenv(\"HF_TOKEN\")"
   ]
  },
  {
   "cell_type": "code",
   "execution_count": 181,
   "metadata": {},
   "outputs": [],
   "source": [
    "embeddings=HuggingFaceEmbeddings(model_name=\"all-MiniLM-L6-v2\")"
   ]
  },
  {
   "cell_type": "code",
   "execution_count": 182,
   "metadata": {},
   "outputs": [],
   "source": [
    "loader=PyPDFLoader(\"C:\\\\Users\\\\user\\\\OneDrive\\\\Desktop\\\\langchain\\\\temp.pdf\")\n",
    "docs=loader.load()"
   ]
  },
  {
   "cell_type": "code",
   "execution_count": 183,
   "metadata": {},
   "outputs": [],
   "source": [
    "documets=RecursiveCharacterTextSplitter(chunk_size=400,chunk_overlap=50).split_documents(docs)"
   ]
  },
  {
   "cell_type": "code",
   "execution_count": 184,
   "metadata": {},
   "outputs": [
    {
     "data": {
      "text/plain": [
       "[Document(metadata={'source': 'C:\\\\Users\\\\user\\\\OneDrive\\\\Desktop\\\\langchain\\\\temp.pdf', 'page': 0}, page_content='From Wikipedia, the free encyclopedia \\nAn illustration of main components of the \\ntransformer model from the paper \\n\"Attention Is All You Need\"[1] is a 2017 landmark[2][3] research paper in machine learning authored by \\neight scientists working at Google. The paper introduced a new deep learning architecture known as'),\n",
       " Document(metadata={'source': 'C:\\\\Users\\\\user\\\\OneDrive\\\\Desktop\\\\langchain\\\\temp.pdf', 'page': 0}, page_content='the transformer, based on the attention mechanism proposed in 2014 by Bahdanau et al.[4] It is \\nconsidered a foundational[5] paper in modern artificial intelligence, as the transformer approach has \\nbecome the main architecture of large language models like those based on GPT.[6][7] At the time, the'),\n",
       " Document(metadata={'source': 'C:\\\\Users\\\\user\\\\OneDrive\\\\Desktop\\\\langchain\\\\temp.pdf', 'page': 0}, page_content='focus of the research was on improving Seq2seq techniques for machine translation, but the authors \\ngo further in the paper, foreseeing the technique\\'s potential for other tasks like question \\nanswering and what is now known as multimodal Generative AI.[1] \\nThe paper\\'s title is a reference to the song \"All You Need Is Love\" by the Beatles.[8] The name'),\n",
       " Document(metadata={'source': 'C:\\\\Users\\\\user\\\\OneDrive\\\\Desktop\\\\langchain\\\\temp.pdf', 'page': 0}, page_content='\"Transformer\" was picked because Uszkoreit liked the sound of that word.[9] \\nAn early design document was titled \"Transformers: Iterative Self-Attention and Processing for \\nVarious Tasks\", and included an illustration of six characters from the Transformers animated show. \\nThe team was named Team Transformer.[8]'),\n",
       " Document(metadata={'source': 'C:\\\\Users\\\\user\\\\OneDrive\\\\Desktop\\\\langchain\\\\temp.pdf', 'page': 0}, page_content='The team was named Team Transformer.[8] \\nSome early examples that the team tried their Transformer architecture on included English-to-\\nGerman translation, generating Wikipedia articles on \"The Transformer\", and parsing. These \\nconvinced the team that the Transformer is a general purpose language model, and not just good for \\ntranslation.[9]'),\n",
       " Document(metadata={'source': 'C:\\\\Users\\\\user\\\\OneDrive\\\\Desktop\\\\langchain\\\\temp.pdf', 'page': 0}, page_content='translation.[9] \\nAs of 2024, the paper has been cited more than 100,000 times.[10] \\nFor their 100M-parameter Transformer model, they suggested learning rate should be linearly scaled \\nup from 0 to maximal value for the first part of the training (i.e. 2% of the total number of training \\nsteps), and to use dropout, to stabilize training. \\nAuthors \\n[edit]'),\n",
       " Document(metadata={'source': 'C:\\\\Users\\\\user\\\\OneDrive\\\\Desktop\\\\langchain\\\\temp.pdf', 'page': 0}, page_content='Authors \\n[edit] \\nThe authors of the paper are: Ashish Vaswani, Noam Shazeer, Niki Parmar, Jakob Uszkoreit, Llion \\nJones, Aidan Gomez, Lukasz Kaiser, and Illia Polosukhin. All eight authors were \"equal contributors\" \\nto the paper; the listed order was randomized. The Wired article highlights the group\\'s diversity:[8]'),\n",
       " Document(metadata={'source': 'C:\\\\Users\\\\user\\\\OneDrive\\\\Desktop\\\\langchain\\\\temp.pdf', 'page': 1}, page_content='Six of the eight authors were born outside the United States; the other two are children of two \\ngreen-card-carrying Germans who were temporarily in California and a first-generation American \\nwhose family had fled persecution, respectively. \\nBy 2023, all eight authors had left Google and founded their own AI start-ups (except Łukasz Kaiser, \\nwho joined OpenAI).[8][10] \\nHistorical context \\n[edit]'),\n",
       " Document(metadata={'source': 'C:\\\\Users\\\\user\\\\OneDrive\\\\Desktop\\\\langchain\\\\temp.pdf', 'page': 1}, page_content='Historical context \\n[edit] \\nMain articles: Transformer (deep learning architecture) § History, and Seq2seq § History \\nSee also: Timeline of machine learning \\nPredecessors \\n[edit] \\nFor many years, sequence modelling and generation was done by using plain recurrent neural \\nnetworks (RNNs). A well-cited early example was the Elman network (1990). In theory, the'),\n",
       " Document(metadata={'source': 'C:\\\\Users\\\\user\\\\OneDrive\\\\Desktop\\\\langchain\\\\temp.pdf', 'page': 1}, page_content=\"information from one token can propagate arbitrarily far down the sequence, but in practice \\nthe vanishing-gradient problem leaves the model's state at the end of a long sentence without \\nprecise, extractable information about preceding tokens. \\nA key breakthrough was LSTM (1995),[note 1] a RNN which used various innovations to overcome the\"),\n",
       " Document(metadata={'source': 'C:\\\\Users\\\\user\\\\OneDrive\\\\Desktop\\\\langchain\\\\temp.pdf', 'page': 1}, page_content='vanishing gradient problem, allowing efficient learning of long-sequence modelling. One key \\ninnovation was the use of an attention mechanism which used neurons that multiply the outputs of \\nother neurons, so-called multiplicative units.[11] Neural networks using multiplicative units were later \\ncalled sigma-pi networks[12] or higher-order networks.[13] LSTM became the standard architecture for'),\n",
       " Document(metadata={'source': 'C:\\\\Users\\\\user\\\\OneDrive\\\\Desktop\\\\langchain\\\\temp.pdf', 'page': 1}, page_content='long sequence modelling until the 2017 publication of Transformers. However, LSTM still used \\nsequential processing, like most other RNNs.[note 2] Specifically, RNNs operate one token at a time \\nfrom first to last; they cannot operate in parallel over all tokens in a sequence. \\nModern Transformers overcome this problem, but unlike RNNs, they require computation time that'),\n",
       " Document(metadata={'source': 'C:\\\\Users\\\\user\\\\OneDrive\\\\Desktop\\\\langchain\\\\temp.pdf', 'page': 1}, page_content='is quadratic in the size of the context window. The linearly scaling fast weight controller (1992) learns \\nto compute a weight matrix for further processing depending on the input.[14] One of its two \\nnetworks has \"fast weights\" or \"dynamic links\" (1981).[15][16][17] A slow neural network learns by \\ngradient descent to generate keys and values for computing the weight changes of the fast neural'),\n",
       " Document(metadata={'source': 'C:\\\\Users\\\\user\\\\OneDrive\\\\Desktop\\\\langchain\\\\temp.pdf', 'page': 1}, page_content='network which computes answers to queries.[14] This was later shown to be equivalent to the \\nunnormalized linear Transformer.[18][19] \\nAttention with seq2seq \\n[edit] \\nMain article: Seq2seq § History \\nThe idea of encoder-decoder sequence transduction had been developed in the early 2010s (see \\nprevious papers[20][21]). The papers most commonly cited as the originators that produced seq2seq'),\n",
       " Document(metadata={'source': 'C:\\\\Users\\\\user\\\\OneDrive\\\\Desktop\\\\langchain\\\\temp.pdf', 'page': 1}, page_content='are two concurrently published papers from 2014.[20][21] \\nA 380M-parameter model for machine translation uses two long short-term memories (LSTM).[21] Its \\narchitecture consists of two parts. The encoder is an LSTM that takes in a sequence of tokens and'),\n",
       " Document(metadata={'source': 'C:\\\\Users\\\\user\\\\OneDrive\\\\Desktop\\\\langchain\\\\temp.pdf', 'page': 2}, page_content='turns it into a vector. The decoder is another LSTM that converts the vector into a sequence of \\ntokens. Similarly, another 130M-parameter model used gated recurrent units (GRU) instead of \\nLSTM.[20] Later research showed that GRUs are neither better nor worse than LSTMs for \\nseq2seq.[22][23] \\nThese early seq2seq models had no attention mechanism, and the state vector is accessible only'),\n",
       " Document(metadata={'source': 'C:\\\\Users\\\\user\\\\OneDrive\\\\Desktop\\\\langchain\\\\temp.pdf', 'page': 2}, page_content='after the last word of the source text was processed. Although in theory such a vector retains the \\ninformation about the whole original sentence, in practice the information is poorly preserved. This \\nis because the input is processed sequentially by one recurrent network into a fixed-size output \\nvector, which is then processed by another recurrent network into an output. If the input is long,'),\n",
       " Document(metadata={'source': 'C:\\\\Users\\\\user\\\\OneDrive\\\\Desktop\\\\langchain\\\\temp.pdf', 'page': 2}, page_content='then the output vector would not be able to contain all relevant information, degrading the output. \\nAs evidence, reversing the input sentence improved seq2seq translation.[24] \\nThe RNNsearch model introduced an attention mechanism to seq2seq for machine translation to \\nsolve the bottleneck problem (of the fixed-size output vector), allowing the model to process long-'),\n",
       " Document(metadata={'source': 'C:\\\\Users\\\\user\\\\OneDrive\\\\Desktop\\\\langchain\\\\temp.pdf', 'page': 2}, page_content='distance dependencies more easily. The name is because it \"emulates searching through a source \\nsentence during decoding a translation\".[4] \\nThe relative performances were compared between global (that of RNNsearch) and local (sliding \\nwindow) attention model architectures for machine translation, finding that mixed attention had'),\n",
       " Document(metadata={'source': 'C:\\\\Users\\\\user\\\\OneDrive\\\\Desktop\\\\langchain\\\\temp.pdf', 'page': 2}, page_content='higher quality than global attention, while local attention reduced translation time.[25] \\nIn 2016, Google Translate was revamped to Google Neural Machine Translation, which replaced the \\nprevious model based on statistical machine translation. The new model was a seq2seq model where \\nthe encoder and the decoder were both 8 layers of bidirectional LSTM.[26] It took nine months to'),\n",
       " Document(metadata={'source': 'C:\\\\Users\\\\user\\\\OneDrive\\\\Desktop\\\\langchain\\\\temp.pdf', 'page': 2}, page_content='develop, and it outperformed the statistical approach, which took ten years to develop.[27] \\nParallelizing attention \\n[edit] \\nMain article: Attention (machine learning) § History \\nSeq2seq models with attention (including self-attention) still suffered from the same issue with \\nrecurrent networks, which is that they are hard to parallelize, which prevented them to be'),\n",
       " Document(metadata={'source': 'C:\\\\Users\\\\user\\\\OneDrive\\\\Desktop\\\\langchain\\\\temp.pdf', 'page': 2}, page_content='accelerated on GPUs. In 2016, decomposable attention applied a self-attention mechanism \\nto feedforward networks, which are easy to parallelize, and achieved SOTA result in textual \\nentailment with an order of magnitude less parameters than LSTMs.[28] One of its authors, Jakob \\nUszkoreit, suspected that attention without recurrence is sufficient for language translation, thus the'),\n",
       " Document(metadata={'source': 'C:\\\\Users\\\\user\\\\OneDrive\\\\Desktop\\\\langchain\\\\temp.pdf', 'page': 2}, page_content='title \"attention is all you need\".[29] That hypothesis was against conventional wisdom of the time, and \\neven his father, a well-known computational linguist, was skeptical.[29] In the same year, self-attention \\n(called intra-attention or intra-sentence attention) was proposed for LSTMs.[30] \\nIn 2017, the original (100M-sized) encoder-decoder transformer model was proposed in the'),\n",
       " Document(metadata={'source': 'C:\\\\Users\\\\user\\\\OneDrive\\\\Desktop\\\\langchain\\\\temp.pdf', 'page': 2}, page_content='\"Attention is all you need\" paper. At the time, the focus of the research was on \\nimproving seq2seq for machine translation, by removing its recurrence to process all tokens in \\nparallel, but preserving its dot-product attention mechanism to keep its text processing \\nperformance.[1] Its parallelizability was an important factor to its widespread use in large neural \\nnetworks.[31] \\nAI boom era'),\n",
       " Document(metadata={'source': 'C:\\\\Users\\\\user\\\\OneDrive\\\\Desktop\\\\langchain\\\\temp.pdf', 'page': 2}, page_content='networks.[31] \\nAI boom era \\n[edit]'),\n",
       " Document(metadata={'source': 'C:\\\\Users\\\\user\\\\OneDrive\\\\Desktop\\\\langchain\\\\temp.pdf', 'page': 3}, page_content='Already in spring 2017, even before the \"Attention is all you need\" preprint was published, one of the \\nco-authors applied the \"decoder-only\" variation of the architecture to generate fictitious Wikipedia \\narticles.[32] Transformer architecture is now used in many generative models that contribute to the \\nongoing AI boom.'),\n",
       " Document(metadata={'source': 'C:\\\\Users\\\\user\\\\OneDrive\\\\Desktop\\\\langchain\\\\temp.pdf', 'page': 3}, page_content='ongoing AI boom. \\nIn language modelling, ELMo (2018) was a bi-directional LSTM that produces contextualized word \\nembeddings, improving upon the line of research from bag of words and word2vec. It was followed \\nby BERT (2018), an encoder-only Transformer model.[33] In 2019 October, Google started using BERT'),\n",
       " Document(metadata={'source': 'C:\\\\Users\\\\user\\\\OneDrive\\\\Desktop\\\\langchain\\\\temp.pdf', 'page': 3}, page_content='to process search queries.[34] In 2020, Google Translate replaced the previous RNN-encoder–RNN-\\ndecoder model by a Transformer-encoder–RNN-decoder model.[35] \\nStarting in 2018, the OpenAI GPT series of decoder-only Transformers became state of the art \\nin natural language generation. In 2022, a chatbot based on GPT-3, ChatGPT, became unexpectedly'),\n",
       " Document(metadata={'source': 'C:\\\\Users\\\\user\\\\OneDrive\\\\Desktop\\\\langchain\\\\temp.pdf', 'page': 3}, page_content='popular,[36] triggering a boom around large language models.[37][38] \\nSince 2020, Transformers have been applied in modalities beyond text, including the vision \\ntransformer,[39] speech recognition,[40] robotics,[41] and multimodal.[42] The vision transformer, in turn, \\nstimulated new developments in convolutional neural networks.[43] Image and video generators'),\n",
       " Document(metadata={'source': 'C:\\\\Users\\\\user\\\\OneDrive\\\\Desktop\\\\langchain\\\\temp.pdf', 'page': 3}, page_content='like DALL-E (2021), Stable Diffusion 3 (2024),[44] and Sora (2024), are based on the Transformer \\narchitecture.')]"
      ]
     },
     "execution_count": 184,
     "metadata": {},
     "output_type": "execute_result"
    }
   ],
   "source": [
    "documets"
   ]
  },
  {
   "cell_type": "code",
   "execution_count": 185,
   "metadata": {},
   "outputs": [],
   "source": [
    "db=FAISS.from_documents(embedding=embeddings,documents=documets)"
   ]
  },
  {
   "cell_type": "code",
   "execution_count": 186,
   "metadata": {},
   "outputs": [],
   "source": [
    "retriever=db.as_retriever()"
   ]
  },
  {
   "cell_type": "code",
   "execution_count": 187,
   "metadata": {},
   "outputs": [
    {
     "data": {
      "text/plain": [
       "VectorStoreRetriever(tags=['FAISS', 'HuggingFaceEmbeddings'], vectorstore=<langchain_community.vectorstores.faiss.FAISS object at 0x0000024121E19040>, search_kwargs={})"
      ]
     },
     "execution_count": 187,
     "metadata": {},
     "output_type": "execute_result"
    }
   ],
   "source": [
    "retriever"
   ]
  },
  {
   "cell_type": "code",
   "execution_count": 188,
   "metadata": {},
   "outputs": [],
   "source": [
    "from langchain_core.runnables import RunnablePassthrough\n",
    "from langchain_core.output_parsers import StrOutputParser"
   ]
  },
  {
   "cell_type": "code",
   "execution_count": null,
   "metadata": {},
   "outputs": [],
   "source": [
    "def function_2(AgentState):\n",
    "    messages=AgentState[\"messages\"]\n",
    "    question=messages[0]\n",
    "    #print(question)\n",
    "    template=\"\"\"Answer the following question based on the given context\n",
    "    {context}\n",
    "    Question:{question}\n",
    "    \"\"\"\n",
    "\n",
    "    prompt=ChatPromptTemplate.from_template(template)\n",
    "\n",
    "    retrieval=prompt|llm|StrOutputParser()\n",
    "\n",
    "    response=retrieval.invoke({\"context\":retriever,\"question\":question})\n",
    "\n",
    "    return response"
   ]
  },
  {
   "cell_type": "code",
   "execution_count": 190,
   "metadata": {},
   "outputs": [],
   "source": [
    "workflow=Graph()"
   ]
  },
  {
   "cell_type": "code",
   "execution_count": 191,
   "metadata": {},
   "outputs": [
    {
     "data": {
      "text/plain": [
       "<langgraph.graph.graph.Graph at 0x241229be8a0>"
      ]
     },
     "execution_count": 191,
     "metadata": {},
     "output_type": "execute_result"
    }
   ],
   "source": [
    "workflow.add_node(\"llm\",function_1)"
   ]
  },
  {
   "cell_type": "code",
   "execution_count": 192,
   "metadata": {},
   "outputs": [
    {
     "data": {
      "text/plain": [
       "<langgraph.graph.graph.Graph at 0x241229be8a0>"
      ]
     },
     "execution_count": 192,
     "metadata": {},
     "output_type": "execute_result"
    }
   ],
   "source": [
    "workflow.add_node(\"rag\",function_2)"
   ]
  },
  {
   "cell_type": "code",
   "execution_count": 193,
   "metadata": {},
   "outputs": [
    {
     "data": {
      "text/plain": [
       "<langgraph.graph.graph.Graph at 0x241229be8a0>"
      ]
     },
     "execution_count": 193,
     "metadata": {},
     "output_type": "execute_result"
    }
   ],
   "source": [
    "workflow.add_edge(\"llm\",\"rag\")"
   ]
  },
  {
   "cell_type": "code",
   "execution_count": 194,
   "metadata": {},
   "outputs": [
    {
     "data": {
      "text/plain": [
       "<langgraph.graph.graph.Graph at 0x241229be8a0>"
      ]
     },
     "execution_count": 194,
     "metadata": {},
     "output_type": "execute_result"
    }
   ],
   "source": [
    "workflow.set_entry_point(\"llm\")"
   ]
  },
  {
   "cell_type": "code",
   "execution_count": 195,
   "metadata": {},
   "outputs": [
    {
     "data": {
      "text/plain": [
       "<langgraph.graph.graph.Graph at 0x241229be8a0>"
      ]
     },
     "execution_count": 195,
     "metadata": {},
     "output_type": "execute_result"
    }
   ],
   "source": [
    "workflow.set_finish_point(\"rag\")"
   ]
  },
  {
   "cell_type": "code",
   "execution_count": 196,
   "metadata": {},
   "outputs": [],
   "source": [
    "graph=workflow.compile()"
   ]
  },
  {
   "cell_type": "code",
   "execution_count": 197,
   "metadata": {},
   "outputs": [
    {
     "data": {
      "image/jpeg": "[encoded data removed]",
      "text/plain": [
       "<IPython.core.display.Image object>"
      ]
     },
     "metadata": {},
     "output_type": "display_data"
    }
   ],
   "source": [
    "try:\n",
    "    display(Image(graph.get_graph().draw_mermaid_png()))\n",
    "except Exception as e:\n",
    "    print(e)"
   ]
  },
  {
   "cell_type": "code",
   "execution_count": 198,
   "metadata": {},
   "outputs": [],
   "source": [
    "input={\"messages\":[\"what is transformer\"]}"
   ]
  },
  {
   "cell_type": "code",
   "execution_count": null,
   "metadata": {},
   "outputs": [
    {
     "name": "stdout",
     "output_type": "stream",
     "text": [
      "here the output is 'llm':\n",
      "----------\n",
      "{'messages': ['what is transformer', \"Let's break down transformers in the realm of artificial intelligence.\\n\\n**What is a Transformer?**\\n\\nAt its core, a transformer is a powerful type of neural network architecture specifically designed for processing sequential data, like text or time series.  They've revolutionized natural language processing (NLP) and are increasingly used in other fields.\\n\\n**Key Features:**\\n\\n* **Attention Mechanism:** This is the heart of a transformer. It allows the model to focus on specific parts of the input sequence that are most relevant to the task at hand. Imagine reading a sentence and naturally emphasizing certain words based on context – that's what attention does.\\n* **Encoder-Decoder Structure:** Transformers typically consist of two main parts:\\n    * **Encoder:**  Processes the input sequence, understanding its structure and meaning.\\n    * **Decoder:** Generates the output sequence, using the encoder's understanding of the input.\\n\\n* **Parallel Processing:** Unlike earlier recurrent neural networks (RNNs), transformers can process entire input sequences simultaneously. This makes them significantly faster for training and inference.\\n\\n**Why are Transformers So Powerful?**\\n\\n1. **Long-Range Dependencies:** They excel at capturing relationships between words that are far apart in a sentence, something RNNs struggled with.\\n\\n2. **Contextual Understanding:** Attention allows transformers to build a rich understanding of the context surrounding each word, leading to more accurate and nuanced language processing.\\n\\n3. **Transfer Learning:**  Pre-trained transformer models (like BERT, GPT-3, T5) have been trained on massive datasets and can be fine-tuned for specific tasks with relatively little additional data. This has democratized access to state-of-the-art NLP capabilities.\\n\\n**Examples of Transformer Applications:**\\n\\n* **Machine Translation:**  Translating text from one language to another.\\n* **Text Summarization:** Condensing large amounts of text into shorter summaries.\\n* **Question Answering:**  Finding answers to questions within a given text passage.\\n* **Chatbots:**  Creating conversational agents that can engage in natural-sounding dialogue.\\n* **Code Generation:**  Assisting programmers by generating code snippets.\\n\\n**In Essence:**\\n\\nTransformers are a game-changer in AI, enabling machines to understand and generate human language with unprecedented accuracy and fluency.\\n\\n\\nLet me know if you have any other questions or want to dive deeper into a specific aspect of transformers!\\n\"]} what is transformer\n",
      "here the output is 'rag':\n",
      "----------\n",
      "While the provided context mentions FAISS and HuggingFaceEmbeddings, it doesn't offer information about transformers. \n",
      "\n",
      "**Here's a general explanation of transformers:**\n",
      "\n",
      "Transformers are a type of neural network architecture that has revolutionized natural language processing (NLP). They are particularly good at understanding and generating human-like text.\n",
      "\n",
      "**Key features of transformers:**\n",
      "\n",
      "* **Attention mechanism:** This allows the model to focus on specific parts of the input sequence that are most relevant to the task at hand.\n",
      "* **Self-attention:**  Transformers can attend to different parts of the same input sequence, allowing them to capture complex relationships between words.\n",
      "* **Encoder-decoder structure:**  Many transformer models have an encoder that processes the input text and a decoder that generates the output text.\n",
      "\n",
      "**Popular transformer models:**\n",
      "\n",
      "* **BERT:** Bidirectional Encoder Representations from Transformers\n",
      "* **GPT-3:** Generative Pre-trained Transformer 3\n",
      "* **T5:** Text-to-Text Transfer Transformer\n",
      "\n",
      "**HuggingFaceEmbeddings** likely uses pre-trained transformer models to generate vector representations of text, which is then stored and searched using FAISS. \n",
      "\n",
      "\n",
      "Let me know if you have any other questions!\n",
      " "
     ]
    }
   ],
   "source": [
    "for output in graph.stream(input):\n",
    "    for key,value in output.items():\n",
    "        #key==>node,value==>output\n",
    "        print(f\"here the output is '{key}':\")\n",
    "        print(\"----------\")\n",
    "        print(value,end=\" \")"
   ]
  },
  {
   "cell_type": "code",
   "execution_count": 234,
   "metadata": {},
   "outputs": [],
   "source": [
    "def function_3(mass):\n",
    "    message=mass[\"message\"]\n",
    "    print(type(mass))\n",
    "    question=message[0]\n",
    "    print(question)\n",
    "    return question"
   ]
  },
  {
   "cell_type": "code",
   "execution_count": 237,
   "metadata": {},
   "outputs": [],
   "source": [
    "mass={}"
   ]
  },
  {
   "cell_type": "code",
   "execution_count": 238,
   "metadata": {},
   "outputs": [],
   "source": [
    "mass[\"message\"]=[]"
   ]
  },
  {
   "cell_type": "code",
   "execution_count": 239,
   "metadata": {},
   "outputs": [
    {
     "data": {
      "text/plain": [
       "{'message': []}"
      ]
     },
     "execution_count": 239,
     "metadata": {},
     "output_type": "execute_result"
    }
   ],
   "source": [
    "mass"
   ]
  },
  {
   "cell_type": "code",
   "execution_count": 235,
   "metadata": {},
   "outputs": [],
   "source": [
    "input={\"message\":[\"hello,how are you\"]}"
   ]
  },
  {
   "cell_type": "code",
   "execution_count": 236,
   "metadata": {},
   "outputs": [
    {
     "name": "stdout",
     "output_type": "stream",
     "text": [
      "<class 'dict'>\n",
      "hello,how are you\n"
     ]
    }
   ],
   "source": [
    "answer=function_3(input)"
   ]
  },
  {
   "cell_type": "code",
   "execution_count": 230,
   "metadata": {},
   "outputs": [
    {
     "data": {
      "text/plain": [
       "'hello,how are you'"
      ]
     },
     "execution_count": 230,
     "metadata": {},
     "output_type": "execute_result"
    }
   ],
   "source": [
    "answer"
   ]
  },
  {
   "cell_type": "code",
   "execution_count": 204,
   "metadata": {},
   "outputs": [],
   "source": [
    "input1={\"message\":[\"hello,how is your job\"]}"
   ]
  },
  {
   "cell_type": "code",
   "execution_count": 205,
   "metadata": {},
   "outputs": [],
   "source": [
    "answer=function_3(input1)"
   ]
  },
  {
   "cell_type": "code",
   "execution_count": 208,
   "metadata": {},
   "outputs": [
    {
     "data": {
      "text/plain": [
       "'hello,how is your job'"
      ]
     },
     "execution_count": 208,
     "metadata": {},
     "output_type": "execute_result"
    }
   ],
   "source": [
    "answer"
   ]
  },
  {
   "cell_type": "code",
   "execution_count": 215,
   "metadata": {},
   "outputs": [],
   "source": [
    "student_detail=({\"name\":\"nithish\",\"age\":22})"
   ]
  },
  {
   "cell_type": "code",
   "execution_count": 216,
   "metadata": {},
   "outputs": [
    {
     "data": {
      "text/plain": [
       "{'name': 'nithish', 'age': 22}"
      ]
     },
     "execution_count": 216,
     "metadata": {},
     "output_type": "execute_result"
    }
   ],
   "source": [
    "student_detail"
   ]
  },
  {
   "cell_type": "code",
   "execution_count": 219,
   "metadata": {},
   "outputs": [],
   "source": [
    "student_detail[\"name\"]=\"kumar\""
   ]
  },
  {
   "cell_type": "code",
   "execution_count": 220,
   "metadata": {},
   "outputs": [
    {
     "data": {
      "text/plain": [
       "{'name': 'kumar', 'age': 22}"
      ]
     },
     "execution_count": 220,
     "metadata": {},
     "output_type": "execute_result"
    }
   ],
   "source": [
    "student_detail"
   ]
  }
 ],
 "metadata": {
  "kernelspec": {
   "display_name": "venv",
   "language": "python",
   "name": "python3"
  },
  "language_info": {
   "codemirror_mode": {
    "name": "ipython",
    "version": 3
   },
   "file_extension": ".py",
   "mimetype": "text/x-python",
   "name": "python",
   "nbconvert_exporter": "python",
   "pygments_lexer": "ipython3",
   "version": "3.12.2"
  }
 },
 "nbformat": 4,
 "nbformat_minor": 2
}
